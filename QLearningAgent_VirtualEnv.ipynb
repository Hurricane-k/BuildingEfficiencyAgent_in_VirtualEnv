{
 "cells": [
  {
   "cell_type": "code",
   "execution_count": 1,
   "metadata": {
    "ExecuteTime": {
     "end_time": "2023-06-18T12:49:22.960822Z",
     "start_time": "2023-06-18T12:49:20.252333Z"
    }
   },
   "outputs": [],
   "source": [
    "import numpy as np\n",
    "import random\n",
    "import pandas as pd\n",
    "import matplotlib.pyplot as plt\n",
    "import seaborn as sns\n",
    "# calculating wet air properties\n",
    "import psychrolib\n",
    "import datetime\n",
    "import copy\n",
    "# set international units\n",
    "psychrolib.SetUnitSystem(psychrolib.SI)\n",
    "import warnings\n",
    "warnings.filterwarnings('ignore')\n",
    "from tqdm import tqdm\n",
    "%matplotlib inline"
   ]
  },
  {
   "cell_type": "markdown",
   "metadata": {},
   "source": [
    "## Cooling Tower\n",
    "from EnergyPlus EngineeringReference\n",
    "### calculating outlet water temperature"
   ]
  },
  {
   "cell_type": "code",
   "execution_count": 2,
   "metadata": {
    "ExecuteTime": {
     "end_time": "2023-06-18T12:49:24.117805Z",
     "start_time": "2023-06-18T12:49:24.112859Z"
    }
   },
   "outputs": [],
   "source": [
    "def cal_Twb(Tdb,reHum):\n",
    "    assert 0.0 <= reHum <= 1.0,'Invalid Relative Humidity'\n",
    "    assert Tdb < 60,'Invalid Dry Bulb Temperature'\n",
    "    Twb = psychrolib.GetTDewPointFromRelHum(Tdb, reHum)\n",
    "    return Twb"
   ]
  },
  {
   "cell_type": "code",
   "execution_count": 3,
   "metadata": {
    "ExecuteTime": {
     "end_time": "2023-06-18T12:49:26.945913Z",
     "start_time": "2023-06-18T12:49:24.475828Z"
    }
   },
   "outputs": [
    {
     "data": {
      "text/plain": [
       "22.972692530223053"
      ]
     },
     "execution_count": 3,
     "metadata": {},
     "output_type": "execute_result"
    }
   ],
   "source": [
    "# check the above function\n",
    "cal_Twb(29,0.7)"
   ]
  },
  {
   "cell_type": "code",
   "execution_count": 4,
   "metadata": {
    "ExecuteTime": {
     "end_time": "2023-06-18T12:49:27.117336Z",
     "start_time": "2023-06-18T12:49:27.102405Z"
    }
   },
   "outputs": [],
   "source": [
    "# the cooling tower models from Page. 1024 Chapter 16. Simulation models - Encyclopedic reference in EngineeringReference\n",
    "# these coefficients you can find from Page. 1025 \n",
    "def CT_ApproachTCoeffDict(type = 'CoolTools'):\n",
    "    if type == 'CoolTools':\n",
    "        coeffDict = {'Coeff1':0.5204971,'Coeff2':-10.6170464,'Coeff3':10.729297,'Coeff4':-2.7498838,'Coeff5':4.7362994,\n",
    "                     'Coeff6':-8.2575970,'Coeff7':1.5764094,'Coeff8':6.5111964,'Coeff9':1.5043352,'Coeff10':-3.2888529,\n",
    "                     'Coeff11':0.0257786,'Coeff12':0.1824643,'Coeff13':-0.0818947,'Coeff14':-0.2150100,'Coeff15':0.0186741,\n",
    "                     'Coeff16':0.0536842,'Coeff17':-0.0027097,'Coeff18':0.0011228,'Coeff19':-0.0012776,'Coeff20':0.0000760,\n",
    "                     'Coeff21':1.4360009,'Coeff22':-0.5198696,'Coeff23':0.1173396,'Coeff24':1.5049281,'Coeff25':-0.1358989,\n",
    "                     'Coeff26':-0.1525776,'Coeff27':-0.0533844,'Coeff28':0.0049329,'Coeff29':-0.0079626,'Coeff30':0.0002226,\n",
    "                     'Coeff31':-0.0543952,'Coeff32':0.0047427,'Coeff33':-0.0185855,'Coeff34':0.0011566,'Coeff35':0.0008074}\n",
    "    elif type == 'YorkCalc':\n",
    "        coeffDict = {'Coeff1':-0.359741205,'Coeff2':-0.055053608,'Coeff3':0.0023850432,'Coeff4':0.173926877,\n",
    "                     'Coeff5':-0.0248473764,'Coeff6':0.00048430224,'Coeff7':-0.005589849456,'Coeff8':0.000577079712,\n",
    "                     'Coeff9':-0.00001342427256,'Coeff10':2.84765801111111,'Coeff11':-0.121765149,'Coeff12':0.0014599242,\n",
    "                     'Coeff13':1.680428651,'Coeff14':-0.0166920786,'Coeff15':-0.0007190532,'Coeff16':-0.025485194448,\n",
    "                     'Coeff17':0.0000487491696,'Coeff18':0.00002719234152,'Coeff19':-0.0653766255555556,\n",
    "                     'Coeff20':-0.002278167,'Coeff21':0.0002500254,'Coeff22':-0.0910565458,'Coeff23':0.00318176316,\n",
    "                     'Coeff24':0.000038621771,'Coeff25':-0.0034285382352,'Coeff26':0.00000856589904,'Coeff27':-0.000001516821552}\n",
    "    return coeffDict"
   ]
  },
  {
   "cell_type": "code",
   "execution_count": 5,
   "metadata": {
    "ExecuteTime": {
     "end_time": "2023-06-18T12:49:27.290439Z",
     "start_time": "2023-06-18T12:49:27.275432Z"
    }
   },
   "outputs": [],
   "source": [
    "# calculate temperature of cooling water leaving cooling towers - in the way of loop\n",
    "# FRair = the ratio of real-time fan frequency(Hz) to 50\n",
    "def CT_T_outwater(coeffDict,FRair,FRwater,Tr,Twb):\n",
    "    assert 0 <= FRair <= 1,'Invalid FRair'\n",
    "    assert 0 <= FRwater <= 1,'Invalid FRwater'\n",
    "    # assert -1.0 <= Twb <= 26.7,'wet bulb temperature is not in the valid range'\n",
    "    approachT = coeffDict['Coeff1'] + coeffDict['Coeff2'] * FRair + coeffDict['Coeff3'] * (FRair ** 2) + \\\n",
    "                coeffDict['Coeff4'] * (FRair ** 3) + coeffDict['Coeff5'] * FRwater + \\\n",
    "                coeffDict['Coeff6'] * FRair * FRwater + coeffDict['Coeff7'] * (FRair ** 2) * FRwater + \\\n",
    "                coeffDict['Coeff8'] * (FRwater ** 2) + coeffDict['Coeff9'] * FRair * (FRwater ** 2) + \\\n",
    "                coeffDict['Coeff10'] * (FRwater ** 3) + coeffDict['Coeff11'] * Twb + coeffDict['Coeff12'] * FRair * Twb + \\\n",
    "                coeffDict['Coeff13'] * (FRair ** 2) * Twb + coeffDict['Coeff14'] * FRwater * Twb + \\\n",
    "                coeffDict['Coeff15'] * FRair * FRwater * Twb + coeffDict['Coeff16'] * (FRwater ** 2) * Twb + \\\n",
    "                coeffDict['Coeff17'] * (Twb ** 2) + coeffDict['Coeff18'] * FRair * (Twb ** 2)+ \\\n",
    "                coeffDict['Coeff19'] * FRwater * (Twb ** 2) + coeffDict['Coeff20'] * (Twb ** 3) + coeffDict['Coeff21'] * Tr + \\\n",
    "                coeffDict['Coeff22'] * FRair * Tr + coeffDict['Coeff23'] * (FRair ** 2) * Tr + \\\n",
    "                coeffDict['Coeff24'] * FRwater * Tr + coeffDict['Coeff25'] * FRair * FRwater * Tr + \\\n",
    "                coeffDict['Coeff26'] * (FRwater ** 2) * Tr + coeffDict['Coeff27'] * Twb * Tr + \\\n",
    "                coeffDict['Coeff28'] * FRair * Twb * Tr + coeffDict['Coeff29'] * FRwater * Twb * Tr + \\\n",
    "                coeffDict['Coeff30'] * (Twb ** 2) * Tr + coeffDict['Coeff31'] * (Tr ** 2) + coeffDict['Coeff32'] * FRair * (Tr ** 2) + \\\n",
    "                coeffDict['Coeff33'] * FRwater * (Tr ** 2) + coeffDict['Coeff34'] * Twb * (Tr ** 2) + coeffDict['Coeff35'] * (Tr ** 2)\n",
    "    # assert 1.1 <= approachT <= 11.1,\"approachT not in the valid range\"\n",
    "    T_outwater = abs(approachT) + Twb\n",
    "    return T_outwater"
   ]
  },
  {
   "cell_type": "code",
   "execution_count": 6,
   "metadata": {
    "ExecuteTime": {
     "end_time": "2023-06-18T12:49:27.459270Z",
     "start_time": "2023-06-18T12:49:27.446313Z"
    }
   },
   "outputs": [],
   "source": [
    "# In order to simplify the process, I use loop to find the most appropriate candidate temperature\n",
    "# Alert: this not ensures convergence\n",
    "def cal_T_outwater(FRair,FRwater,T_inwater,Tdb,reHum):\n",
    "    coeffDict = CT_ApproachTCoeffDict(type = 'CoolTools')\n",
    "    Twb = cal_Twb(Tdb,reHum)\n",
    "    res_lis = []\n",
    "    \n",
    "    for T_test in np.arange(0,T_inwater +0.1,0.1):\n",
    "        # T_outwater should be less than T_inwater\n",
    "        T_outwater = CT_T_outwater(coeffDict,FRair,FRwater,T_inwater - T_test,Twb)\n",
    "        res_lis.append(abs(T_test - T_outwater))\n",
    "    \n",
    "    min_num = res_lis[0]\n",
    "    min_index = 0\n",
    "    for i in range(len(res_lis)):\n",
    "        if res_lis[i] < min_num:\n",
    "            min_num = res_lis[i]\n",
    "            min_index = i\n",
    "            \n",
    "    # assert 1.1 <= abs(T_inwater - T_outwater) <= 11.1,'delta of cooling supply and return water temperature needs fall in the valid range'\n",
    "    #print(min_num,'minimum residuals')\n",
    "            \n",
    "    T_outwater = 0.1 * min_index\n",
    "    return float(format(T_outwater,'.1f'))\n",
    "  "
   ]
  },
  {
   "cell_type": "code",
   "execution_count": 7,
   "metadata": {
    "ExecuteTime": {
     "end_time": "2023-06-18T12:49:27.632641Z",
     "start_time": "2023-06-18T12:49:27.619427Z"
    }
   },
   "outputs": [
    {
     "data": {
      "text/plain": [
       "22.2"
      ]
     },
     "execution_count": 7,
     "metadata": {},
     "output_type": "execute_result"
    }
   ],
   "source": [
    "# test \n",
    "cal_T_outwater(FRair = 0.9,FRwater = 0.8,T_inwater = 30,Tdb = 24,reHum = 0.6)"
   ]
  },
  {
   "cell_type": "markdown",
   "metadata": {},
   "source": [
    "### calcluating fan power"
   ]
  },
  {
   "cell_type": "code",
   "execution_count": 8,
   "metadata": {
    "ExecuteTime": {
     "end_time": "2023-06-18T12:49:27.805536Z",
     "start_time": "2023-06-18T12:49:27.793512Z"
    }
   },
   "outputs": [],
   "source": [
    "# coz the cubic relationship between power and frequency\n",
    "# the coefficients is based on a real model, you can change the coefficents based on your reality\n",
    "def CT_Power_coeff():\n",
    "    coeff = {'coeff1': -9.436,'coeff2':0.7328, 'coeff3':-0.01375, 'coeff4':0.0002145}\n",
    "    return coeff\n",
    "\n",
    "def cal_CT_FanPower(f):\n",
    "    coeff = CT_Power_coeff()\n",
    "    # we set the reasonable frequency range is 30-50Hz based on reality and safety issue\n",
    "    assert 30 <= f <= 50,\"invalid frequency\"\n",
    "    # unit ： KWH\n",
    "    FanPower = coeff['coeff1'] + coeff['coeff2'] * f + coeff['coeff3'] * (f ** 2) + coeff['coeff4'] * (f ** 3)\n",
    "    return FanPower\n",
    "    "
   ]
  },
  {
   "cell_type": "code",
   "execution_count": 9,
   "metadata": {
    "ExecuteTime": {
     "end_time": "2023-06-18T12:49:28.499977Z",
     "start_time": "2023-06-18T12:49:28.481045Z"
    }
   },
   "outputs": [
    {
     "data": {
      "text/plain": [
       "19.6415"
      ]
     },
     "execution_count": 9,
     "metadata": {},
     "output_type": "execute_result"
    }
   ],
   "source": [
    "# test\n",
    "cal_CT_FanPower(50)"
   ]
  },
  {
   "cell_type": "markdown",
   "metadata": {},
   "source": [
    "## Cooling Water Pump"
   ]
  },
  {
   "cell_type": "code",
   "execution_count": 10,
   "metadata": {
    "ExecuteTime": {
     "end_time": "2023-06-18T12:49:29.122117Z",
     "start_time": "2023-06-18T12:49:29.112950Z"
    }
   },
   "outputs": [],
   "source": [
    "# In our system, we have two kinds of water power, with big and small capacities\n",
    "# In our case, go for simplicity, the water pump frequency is fixed (50Hz), so the water pump fan is fixed ideally\n",
    "def CWP_Big_Power(f=50):\n",
    "    power = 19 # unit KW\n",
    "    return power\n",
    "\n",
    "def CWP_Small_Power(f=50):\n",
    "    power = 8 # unit KW\n",
    "    return power"
   ]
  },
  {
   "cell_type": "code",
   "execution_count": 11,
   "metadata": {
    "ExecuteTime": {
     "end_time": "2023-06-18T12:49:29.769635Z",
     "start_time": "2023-06-18T12:49:29.766079Z"
    }
   },
   "outputs": [],
   "source": [
    "# CWP_Big_Q   <==> CWP_Big_Power\n",
    "# CWP_Small_Q <==> CWP_Small_Power\n",
    "# When presuming the pipe resistance is unchanged, other things are perfectly, the real-time water flow is proportion to frequency\n",
    "# Big Water pump has two, and small water pump has one\n",
    "# the maximum wateflow is 3000 m³/h\n",
    "def CWP_Big_Q(f=50):\n",
    "    Q = 1100 # unit m³/h\n",
    "    return Q\n",
    "\n",
    "def CWP_Small_Q(f=50):\n",
    "    Q = 800 # unit m³/h\n",
    "    return Q"
   ]
  },
  {
   "cell_type": "markdown",
   "metadata": {},
   "source": [
    "## Chilled Water Pump"
   ]
  },
  {
   "cell_type": "code",
   "execution_count": 12,
   "metadata": {
    "ExecuteTime": {
     "end_time": "2023-06-18T12:49:30.341891Z",
     "start_time": "2023-06-18T12:49:30.327392Z"
    }
   },
   "outputs": [],
   "source": [
    "# the part of chilled water pumps is the same as that of cooling water pumps\n",
    "def CHWP_Big_Power(f=50):\n",
    "    power = 23 # unit KW\n",
    "    return power\n",
    "\n",
    "def CHWP_Small_Power(f=50):\n",
    "    power = 10.5 # unit KW\n",
    "    return power"
   ]
  },
  {
   "cell_type": "code",
   "execution_count": 13,
   "metadata": {
    "ExecuteTime": {
     "end_time": "2023-06-18T12:49:30.827016Z",
     "start_time": "2023-06-18T12:49:30.818858Z"
    }
   },
   "outputs": [],
   "source": [
    "# wanna explain the relationship between cooling water pumps and chilled water pumps\n",
    "# one big cooling water pump matches one big chilled water pump\n",
    "# one small cooling water pump matches one small chilled water pump\n",
    "# based on that, there are two big chilled water pumps and single small chilled water pump\n",
    "# When one big chilled water pump is on, there must have a big cooling water pump under operation \n",
    "def CHWP_Big_Q(f=50):\n",
    "    Q = 450 # unit m³/h\n",
    "    return Q\n",
    "\n",
    "def CHWP_Small_Q(f=50):\n",
    "    Q = 300 # unit m³/h\n",
    "    return Q"
   ]
  },
  {
   "cell_type": "markdown",
   "metadata": {},
   "source": [
    "## Chiller  (one kind has smaller capacity, one has larger capacity)"
   ]
  },
  {
   "cell_type": "markdown",
   "metadata": {},
   "source": [
    "### The Chiller with smaller capacity\n",
    "**small chiller matches smaller cooling/chilled water pump**"
   ]
  },
  {
   "cell_type": "code",
   "execution_count": 15,
   "metadata": {
    "ExecuteTime": {
     "end_time": "2023-06-18T12:49:33.585337Z",
     "start_time": "2023-06-18T12:49:33.567200Z"
    }
   },
   "outputs": [],
   "source": [
    "# the Empirical Formula to obtain COP of the chiller with smaller capacity\n",
    "# the formula is based on 14.3.9 and 14.3.10 EIR model, which is widely used in various papers\n",
    "# EnergyPlus supply official .idf files where you can find different kinds of chillers in case of the lack of chiller model to hand\n",
    "def coeffDict_CapFTemp_small():\n",
    "    coeff_CapFTemp = {'coeff1':0.4742518,'coeff2':-0.05109937,'coeff3':-0.002845323,\n",
    "                      'coeff4':0.0857997,'coeff5':-0.003404799,'coeff6':0.005625321}\n",
    "    return coeff_CapFTemp\n",
    "\n",
    "def coeffDict_EIRFTemp_small():\n",
    "    coeff_EIRFTemp = {'coeff1':0.2950574,'coeff2':-0.1036684,'coeff3':-0.004169567,\n",
    "                      'coeff4':0.1256790,'coeff5':-0.004004203,'coeff6':0.006718687}\n",
    "    return coeff_EIRFTemp\n",
    "\n",
    "def coeffDict_EIRFPLR_small():\n",
    "    coeff_EIRFPLR = {'coeff1':0.2374010,'coeff2':-0.1796745,'coeff3':0.9441507}\n",
    "    return coeff_EIRFPLR\n",
    "\n",
    "# Q_part: partial load\n",
    "# Q_ref: nominal capacity marked on nameplate\n",
    "# COP_ref: nominal COP marked on nameplate\n",
    "# T_cwl: the temperature of chilled supply water\n",
    "# T_conde: the temperature of cooling supply water (generated by cooling tower)\n",
    "def cal_chiller_COP_small(T_cwl,T_conde,Q_part,Q_ref,COP_ref):\n",
    "    # York YT 1368kW/7.35COP/VSD (this is the make and model of the smaller chiller, you can change whatever you want)\n",
    "    PLR = Q_part / Q_ref\n",
    "    coeff_CapFTemp = coeffDict_CapFTemp_small()\n",
    "    coeff_EIRFTemp = coeffDict_EIRFTemp_small()\n",
    "    coeff_EIRFPLR = coeffDict_EIRFPLR_small()\n",
    "    \n",
    "    ChillerCapFTemp = coeff_CapFTemp['coeff1'] + coeff_CapFTemp['coeff2'] * T_cwl + coeff_CapFTemp['coeff3'] * (T_cwl ** 2) + \\\n",
    "                      coeff_CapFTemp['coeff4'] * T_conde + coeff_CapFTemp['coeff5'] * (T_conde ** 2) + \\\n",
    "                      coeff_CapFTemp['coeff6'] * T_cwl * T_conde\n",
    "    #Q_ref_spec = ChillerCapFTemp * Q_ref\n",
    "    \n",
    "    ChillerEIRTemp = coeff_EIRFTemp['coeff1'] + coeff_EIRFTemp['coeff2'] * T_cwl + coeff_EIRFTemp['coeff3'] * (T_cwl ** 2) + \\\n",
    "                     coeff_EIRFTemp['coeff4'] * T_conde + coeff_EIRFTemp['coeff5'] * (T_conde ** 2) + \\\n",
    "                     coeff_EIRFTemp['coeff6'] * T_cwl * T_conde\n",
    "    \n",
    "    #COP_ref_spec = (ChillerEIRTemp * (COP_ref ** -1)) ** -1\n",
    "    \n",
    "    ChillerEIRFPLR = coeff_EIRFPLR['coeff1'] + coeff_EIRFPLR['coeff2'] * PLR + coeff_EIRFPLR['coeff3'] * (PLR ** 2)\n",
    "    P = (ChillerCapFTemp * ChillerEIRFPLR * ChillerEIRFPLR * Q_ref) / COP_ref\n",
    "    \n",
    "    COP = Q_part / P\n",
    "    \n",
    "    Result = {'COP':abs(COP),'P':abs(P)}\n",
    "    \n",
    "    return Result\n",
    "    "
   ]
  },
  {
   "cell_type": "code",
   "execution_count": 16,
   "metadata": {
    "ExecuteTime": {
     "end_time": "2023-06-18T12:49:33.805642Z",
     "start_time": "2023-06-18T12:49:33.786700Z"
    }
   },
   "outputs": [
    {
     "data": {
      "text/plain": [
       "{'COP': 6.630672085602478, 'P': 205.55985613578338}"
      ]
     },
     "execution_count": 16,
     "metadata": {},
     "output_type": "execute_result"
    }
   ],
   "source": [
    "cal_chiller_COP_small(T_cwl=7,T_conde=21,Q_part=1363,Q_ref=1363,COP_ref=7.35)"
   ]
  },
  {
   "cell_type": "markdown",
   "metadata": {},
   "source": [
    "### The Chiller with larger capacity\n",
    "**larger chiller matches larger chilled/cooling water pump**"
   ]
  },
  {
   "cell_type": "code",
   "execution_count": 18,
   "metadata": {
    "ExecuteTime": {
     "end_time": "2023-06-18T12:49:34.859469Z",
     "start_time": "2023-06-18T12:49:34.850503Z"
    }
   },
   "outputs": [],
   "source": [
    "# same with the chiller with smaller capacity\n",
    "def coeffDict_CapFTemp_big():\n",
    "    coeff_CapFTemp = {'coeff1':0.2210324,'coeff2':-0.02752320,'coeff3':0.0004903763,\n",
    "                      'coeff4':0.07337449,'coeff5':-0.001919426,'coeff6':0.001935659}\n",
    "    return coeff_CapFTemp\n",
    "\n",
    "def coeffDict_EIRFTemp_big():\n",
    "    coeff_EIRFTemp = {'coeff1':0.2267558,'coeff2':-0.07615857,'coeff3':0.002140583,\n",
    "                      'coeff4':0.07088812,'coeff5':-0.001124968,'coeff6':0.0006089843}\n",
    "    return coeff_EIRFTemp\n",
    "\n",
    "def coeffDict_EIRFPLR_big():\n",
    "    coeff_EIRFPLR = {'coeff1':0.3023576,'coeff2':-0.02893592,'coeff3':0.7262269}\n",
    "    return coeff_EIRFPLR\n",
    "\n",
    "# Q_part: partial load\n",
    "# Q_ref: nominal capacity marked on nameplate\n",
    "# COP_ref: nominal COP marked on nameplate\n",
    "# T_cwl: the temperature of chilled supply water\n",
    "# T_conde: the temperature of cooling supply water (generated by cooling tower)\n",
    "def cal_chiller_COP_big(T_cwl,T_conde,Q_part,Q_ref,COP_ref):\n",
    "    # York YK 4396kW/6.63COP/\n",
    "    PLR = Q_part / Q_ref\n",
    "    coeff_CapFTemp = coeffDict_CapFTemp_big()\n",
    "    coeff_EIRFTemp = coeffDict_EIRFTemp_big()\n",
    "    coeff_EIRFPLR = coeffDict_EIRFPLR_big()\n",
    "    \n",
    "    ChillerCapFTemp = coeff_CapFTemp['coeff1'] + coeff_CapFTemp['coeff2'] * T_cwl + coeff_CapFTemp['coeff3'] * (T_cwl ** 2) + \\\n",
    "                      coeff_CapFTemp['coeff4'] * T_conde + coeff_CapFTemp['coeff5'] * (T_conde ** 2) + \\\n",
    "                      coeff_CapFTemp['coeff6'] * T_cwl * T_conde\n",
    "    Q_ref_spec = ChillerCapFTemp * Q_ref\n",
    "    #plr = CL / (nominal_cap * cap_factor)\n",
    "    #PLR = Q_part / (COP_ref * ChillerCapFTemp)\n",
    "    \n",
    "    ChillerEIRTemp = coeff_EIRFTemp['coeff1'] + coeff_EIRFTemp['coeff2'] * T_cwl + coeff_EIRFTemp['coeff3'] * (T_cwl ** 2) + \\\n",
    "                     coeff_EIRFTemp['coeff4'] * T_conde + coeff_EIRFTemp['coeff5'] * (T_conde ** 2) + \\\n",
    "                     coeff_EIRFTemp['coeff6'] * T_cwl * T_conde\n",
    "    \n",
    "    COP_ref_spec = (ChillerEIRTemp * (COP_ref ** -1)) ** -1\n",
    "    #p = nominal_power * cap_factor * eir_t_factor * eir_plr_factor\n",
    "    \n",
    "    ChillerEIRFPLR = coeff_EIRFPLR['coeff1'] + coeff_EIRFPLR['coeff2'] * PLR + coeff_EIRFPLR['coeff3'] * (PLR ** 2)\n",
    "    P = (ChillerCapFTemp * ChillerEIRFPLR * ChillerEIRFPLR * Q_ref) / COP_ref\n",
    "    #P = (Q_ref/COP_ref) * ChillerCapFTemp * ChillerEIRTemp * ChillerEIRFPLR\n",
    "    \n",
    "    COP = Q_part / P\n",
    "    \n",
    "    Result = {'COP':abs(COP),'P':abs(P)}\n",
    "    \n",
    "    #return Result\n",
    "    return Result\n",
    "    "
   ]
  },
  {
   "cell_type": "code",
   "execution_count": 19,
   "metadata": {
    "ExecuteTime": {
     "end_time": "2023-06-18T12:49:35.262258Z",
     "start_time": "2023-06-18T12:49:35.250244Z"
    }
   },
   "outputs": [
    {
     "data": {
      "text/plain": [
       "{'COP': 8.503912042045894, 'P': 61.148327667191744}"
      ]
     },
     "execution_count": 19,
     "metadata": {},
     "output_type": "execute_result"
    }
   ],
   "source": [
    "# test\n",
    "cal_chiller_COP_big(T_cwl = 7,T_conde = 20.9,Q_part = 520,Q_ref = 3868,COP_ref = 6.33)"
   ]
  },
  {
   "cell_type": "markdown",
   "metadata": {},
   "source": [
    "## cooling load reloading...\n",
    "**the unit of cooling load is KW**"
   ]
  },
  {
   "cell_type": "code",
   "execution_count": 20,
   "metadata": {
    "ExecuteTime": {
     "end_time": "2023-06-18T12:49:36.473398Z",
     "start_time": "2023-06-18T12:49:36.447172Z"
    }
   },
   "outputs": [],
   "source": [
    "df_load = pd.read_csv(r'CoolingLoad.csv')\n",
    "cal_load = copy.deepcopy(df_load['cooling load'].values[::4])\n",
    "cal_load[cal_load<100] = 0"
   ]
  },
  {
   "cell_type": "markdown",
   "metadata": {},
   "source": [
    "## weather reloading..."
   ]
  },
  {
   "cell_type": "code",
   "execution_count": 21,
   "metadata": {
    "ExecuteTime": {
     "end_time": "2023-06-18T12:49:38.082978Z",
     "start_time": "2023-06-18T12:49:37.236443Z"
    }
   },
   "outputs": [
    {
     "data": {
      "image/png": "[encoded data removed]",
      "text/plain": [
       "<Figure size 1440x432 with 1 Axes>"
      ]
     },
     "metadata": {
      "needs_background": "light"
     },
     "output_type": "display_data"
    },
    {
     "data": {
      "image/png": "[encoded data removed]",
      "text/plain": [
       "<Figure size 1440x432 with 1 Axes>"
      ]
     },
     "metadata": {
      "needs_background": "light"
     },
     "output_type": "display_data"
    }
   ],
   "source": [
    "df_weather = pd.read_csv(r'Weather.csv')\n",
    "time = df_weather['DateTime'].values[::4]\n",
    "tout = df_weather['tout'].values[::4]\n",
    "\n",
    "plt.figure(figsize=(20,6))\n",
    "plt.plot(time,tout)\n",
    "plt.xticks([])\n",
    "plt.title('dry bulb temperature - time')\n",
    "plt.show()\n",
    "\n",
    "hout = df_weather['hout'].values[::4]\n",
    "plt.figure(figsize=(20,6))\n",
    "plt.plot(time,hout)\n",
    "plt.xticks([])\n",
    "plt.title('humidity - time')\n",
    "plt.show()"
   ]
  },
  {
   "cell_type": "markdown",
   "metadata": {},
   "source": [
    "## subfunction"
   ]
  },
  {
   "cell_type": "markdown",
   "metadata": {},
   "source": [
    "### All nominal parameters we need"
   ]
  },
  {
   "cell_type": "code",
   "execution_count": 23,
   "metadata": {
    "ExecuteTime": {
     "end_time": "2023-06-18T12:49:41.929197Z",
     "start_time": "2023-06-18T12:49:41.915268Z"
    }
   },
   "outputs": [],
   "source": [
    "def equipment_parameters(): \n",
    "    \n",
    "    chiller_big_parameters = {'Reference Capacity KW':2799,\n",
    "                              'Reference COP':6.40,\n",
    "                              'Reference Leaving Chilled Water Temperature':6.67,\n",
    "                              'Reference Entering Condenser Fluid Temperature':26.11,\n",
    "                              'Reference Chilled Water Flow Rate m3/s':0.09893,\n",
    "                              'Reference Condenser Fluid Flow Rate':0.13761}\n",
    "\n",
    "    chiller_small_parameters = {'Reference Capacity KW':1723,\n",
    "                                'Reference COP':8.32,\n",
    "                                'Reference Leaving Chilled Water Temperature':6.11,\n",
    "                                'Reference Entering Condenser Fluid Temperature':12.78,\n",
    "                                'Reference Chilled Water Flow Rate m3/s':0.04757,\n",
    "                                'Reference Condenser Fluid Flow Rate':0.06934}\n",
    "\n",
    "    cooling_tower_parameters = {'Reference Water Flow m3/h':150,\n",
    "                               'Reference Fan Frequency Hz':50,\n",
    "                               'Number of Cooling Towers':20}\n",
    "    \n",
    "    equipment_parameters = {'chiller_big':chiller_big_parameters,\n",
    "                           'chiller_small':chiller_small_parameters,\n",
    "                           'cooling_tower':cooling_tower_parameters}\n",
    "    \n",
    "    return equipment_parameters"
   ]
  },
  {
   "cell_type": "code",
   "execution_count": 24,
   "metadata": {
    "ExecuteTime": {
     "end_time": "2023-06-18T12:49:42.317018Z",
     "start_time": "2023-06-18T12:49:42.298082Z"
    }
   },
   "outputs": [
    {
     "data": {
      "text/plain": [
       "{'Reference Water Flow m3/h': 150,\n",
       " 'Reference Fan Frequency Hz': 50,\n",
       " 'Number of Cooling Towers': 20}"
      ]
     },
     "execution_count": 24,
     "metadata": {},
     "output_type": "execute_result"
    }
   ],
   "source": [
    "# test\n",
    "equipment_parameters()['cooling_tower']"
   ]
  },
  {
   "cell_type": "markdown",
   "metadata": {},
   "source": [
    "### determine chiller, chilled/cooling water pump operation, and then determine power of water pumps and water flow"
   ]
  },
  {
   "cell_type": "code",
   "execution_count": 26,
   "metadata": {
    "ExecuteTime": {
     "end_time": "2023-06-18T12:49:43.605439Z",
     "start_time": "2023-06-18T12:49:43.598517Z"
    }
   },
   "outputs": [],
   "source": [
    "# determine chiller operation\n",
    "def cal_chillers_condition(load):\n",
    "    \n",
    "    # default is all chillers are down\n",
    "    # unit:KW\n",
    "    if load <= 100:\n",
    "        chillers_condition = {'chiller_big_num':0,'chiller_small_num':0}    \n",
    "    elif 0 < load <= 1720:\n",
    "        chillers_condition = {'chiller_big_num':0,'chiller_small_num':1}        \n",
    "    elif 1720 < load <= 2780:\n",
    "        chillers_condition = {'chiller_big_num':1,'chiller_small_num':0}  \n",
    "    elif 2780 < load <= 4500:\n",
    "        chillers_condition = {'chiller_big_num':1,'chiller_small_num':1}    \n",
    "    elif 4500 < load <= 5560:\n",
    "        chillers_condition = {'chiller_big_num':2,'chiller_small_num':0}\n",
    "    elif 5560 < load <= 7280:\n",
    "        chillers_condition = {'chiller_big_num':2,'chiller_small_num':1}    \n",
    "    elif 7280 < load <= 8340:\n",
    "        chillers_condition = {'chiller_big_num':3,'chiller_small_num':0}   \n",
    "    else:\n",
    "        chillers_condition = {'chiller_big_num':3,'chiller_small_num':1}\n",
    "    \n",
    "    #print('larger chiller',chillers_condition['chiller_big_num'],'under operation，smaller chiller',chillers_condition['chiller_small_num'],'uder operation')\n",
    "    \n",
    "    return chillers_condition"
   ]
  },
  {
   "cell_type": "code",
   "execution_count": 27,
   "metadata": {
    "ExecuteTime": {
     "end_time": "2023-06-18T12:49:44.228128Z",
     "start_time": "2023-06-18T12:49:44.207190Z"
    }
   },
   "outputs": [],
   "source": [
    "# determine water pump operation\n",
    "def cal_pumps_condition(chillers_condition):\n",
    "    pumps_condition = {'chilled_cooling_pump_big':0,'chilled_cooling_pump_small':0}\n",
    "    \n",
    "    if chillers_condition == {'chiller_big_num':0,'chiller_small_num':1}:\n",
    "        pumps_condition = {'chilled_cooling_pump_big':0,'chilled_cooling_pump_small':1}\n",
    "        \n",
    "    elif chillers_condition == {'chiller_big_num':1,'chiller_small_num':0}:\n",
    "        pumps_condition = {'chilled_cooling_pump_big':1,'chilled_cooling_pump_small':0}\n",
    "        \n",
    "    elif chillers_condition == {'chiller_big_num':1,'chiller_small_num':1}:\n",
    "        pumps_condition = {'chilled_cooling_pump_big':1,'chilled_cooling_pump_small':1}\n",
    "        \n",
    "    elif chillers_condition == {'chiller_big_num':2,'chiller_small_num':0}:\n",
    "        pumps_condition = {'chilled_cooling_pump_big':2,'chilled_cooling_pump_small':0}\n",
    "        \n",
    "    elif chillers_condition == {'chiller_big_num':2,'chiller_small_num':1}:\n",
    "        pumps_condition = {'chilled_cooling_pump_big':2,'chilled_cooling_pump_small':1}\n",
    "        \n",
    "    elif chillers_condition == {'chiller_big_num':3,'chiller_small_num':0}:\n",
    "        pumps_condition = {'chilled_cooling_pump_big':3,'chilled_cooling_pump_small':0}\n",
    "        \n",
    "    elif chillers_condition == {'chiller_big_num':3,'chiller_small_num':1}:\n",
    "        pumps_condition = {'chilled_cooling_pump_big':3,'chilled_cooling_pump_small':1}\n",
    "        \n",
    "    return pumps_condition\n",
    "\n",
    "# calculate power (electricity consumption) of water pumps\n",
    "def cal_pumps_power(pumps_condition):\n",
    "    # for cooling water pumps\n",
    "    CWP_small = CWP_Small_Power() * pumps_condition['chilled_cooling_pump_small']\n",
    "    CWP_big = CWP_Big_Power() * pumps_condition['chilled_cooling_pump_big']\n",
    "    # for chilled water pumps\n",
    "    CHWP_small = CHWP_Small_Power() * pumps_condition['chilled_cooling_pump_small']\n",
    "    CHWP_big = CHWP_Big_Power() * pumps_condition['chilled_cooling_pump_big']\n",
    "    Pumps_all = CWP_small + CWP_big + CHWP_small + CHWP_big\n",
    "    return Pumps_all\n",
    "\n",
    "# calculate the total water flow in cooling water loop and chilled water loop\n",
    "def cal_Qchwcw(pumps_condition):\n",
    "    # chilled/cooling water flow unit m³/h\n",
    "    Q_condition = {'Q_chilled':CHWP_Small_Q() * pumps_condition['chilled_cooling_pump_small'] + \\\n",
    "                               CHWP_Big_Q() * pumps_condition['chilled_cooling_pump_big'],\n",
    "                   'Q_cooling':CWP_Small_Q() * pumps_condition['chilled_cooling_pump_small'] + \\\n",
    "                               CWP_Big_Q() * pumps_condition['chilled_cooling_pump_big']}\n",
    "    return Q_condition\n",
    "\n",
    "# calculate the chilled supply water temperature\n",
    "# theoretically, the chillers have capacity of meeting the setpoint temperature of chilled supply water\n",
    "def cal_Tchs(load,chillers_condition,pumps_condition,T_chsset,Tchr=12):\n",
    "    # when chillers are on\n",
    "    if 0 <= load <= 12967:\n",
    "        Tchs = 7\n",
    "    elif load < 0:\n",
    "        print('invalid load, value much be greater than zero')\n",
    "        Tchs = 7 \n",
    "    else:\n",
    "        Q_chilled = cal_Qchwcw(pumps_condition)['Q_chilled']        \n",
    "        Tchs = -(12967 * 3600)/(4.2 * 1000 * Q_chilled) + Tr\n",
    "        if Tchs < Tchsset: # if Tchs is less than 7, which means operating chillers are able to generate 7 Celsius water\n",
    "            Tchs = Tchsset\n",
    "    return Tchs\n",
    "        \n",
    "        "
   ]
  },
  {
   "cell_type": "code",
   "execution_count": 28,
   "metadata": {
    "ExecuteTime": {
     "end_time": "2023-06-18T12:49:44.836216Z",
     "start_time": "2023-06-18T12:49:44.817300Z"
    }
   },
   "outputs": [
    {
     "name": "stdout",
     "output_type": "stream",
     "text": [
      "{'chiller_big_num': 1, 'chiller_small_num': 1}\n",
      "{'chilled_cooling_pump_big': 1, 'chilled_cooling_pump_small': 1}\n",
      "60.5\n",
      "{'Q_chilled': 750, 'Q_cooling': 1900}\n"
     ]
    }
   ],
   "source": [
    "# test\n",
    "chillers_condition = cal_chillers_condition(4000)\n",
    "print(chillers_condition)\n",
    "pumps_condition = cal_pumps_condition(chillers_condition)\n",
    "print(pumps_condition)\n",
    "power_pumps = cal_pumps_power(pumps_condition)\n",
    "print(power_pumps)\n",
    "Q_condition = cal_Qchwcw(pumps_condition)\n",
    "print(Q_condition)"
   ]
  },
  {
   "cell_type": "markdown",
   "metadata": {},
   "source": [
    "## Q-Learning"
   ]
  },
  {
   "cell_type": "markdown",
   "metadata": {},
   "source": [
    "### initialization"
   ]
  },
  {
   "cell_type": "code",
   "execution_count": 29,
   "metadata": {
    "ExecuteTime": {
     "end_time": "2023-06-18T12:49:46.269502Z",
     "start_time": "2023-06-18T12:49:46.257213Z"
    },
    "scrolled": true
   },
   "outputs": [],
   "source": [
    "def Q_table_ini():\n",
    "    # presume the maximun load is 7000 KW or so\n",
    "    # allocate part of load to chiller will smaller capacity\n",
    "    Q_table = pd.DataFrame(columns=[np.arange(0,1.05,0.05)],index=[np.arange(0,1.05,0.05)])\n",
    "    Q_table.fillna(0,inplace = True)\n",
    "    return Q_table"
   ]
  },
  {
   "cell_type": "code",
   "execution_count": 30,
   "metadata": {
    "ExecuteTime": {
     "end_time": "2023-06-18T12:49:46.689195Z",
     "start_time": "2023-06-18T12:49:46.635376Z"
    }
   },
   "outputs": [
    {
     "name": "stderr",
     "output_type": "stream",
     "text": [
      "100%|██████████████████████████████████████████████████████████████████████████████| 100/100 [00:00<00:00, 3583.53it/s]\n"
     ]
    }
   ],
   "source": [
    "# test above function: randomized experiments\n",
    "# Q_table: the column is ratio of part load of smaller chiller, the row is ratio of part load of larger chiller\n",
    "Q_table = Q_table_ini()\n",
    "for i in tqdm(range(100)):\n",
    "    Q_table.loc[tuple((random.choice(np.arange(0,1.05,0.05)),)),\n",
    "                tuple((random.choice(np.arange(0,1.05,0.05)),))] = random.choice(np.arange(0,100,1))"
   ]
  },
  {
   "cell_type": "code",
   "execution_count": 31,
   "metadata": {
    "ExecuteTime": {
     "end_time": "2023-06-18T12:49:47.028822Z",
     "start_time": "2023-06-18T12:49:47.015809Z"
    }
   },
   "outputs": [],
   "source": [
    "def Q_para_ini():\n",
    "    # parameters for reward update\n",
    "    para_dict = {'alpha':0.9,\n",
    "                 'gamma':0.01,\n",
    "                 'epsilon':0.1}\n",
    "    return para_dict"
   ]
  },
  {
   "cell_type": "code",
   "execution_count": 32,
   "metadata": {
    "ExecuteTime": {
     "end_time": "2023-06-18T12:49:47.369527Z",
     "start_time": "2023-06-18T12:49:47.356542Z"
    }
   },
   "outputs": [
    {
     "data": {
      "text/plain": [
       "{'alpha': 0.9, 'gamma': 0.01, 'epsilon': 0.1}"
      ]
     },
     "execution_count": 32,
     "metadata": {},
     "output_type": "execute_result"
    }
   ],
   "source": [
    "Q_para_ini()"
   ]
  },
  {
   "cell_type": "markdown",
   "metadata": {},
   "source": [
    "### update value in Q table"
   ]
  },
  {
   "cell_type": "code",
   "execution_count": 33,
   "metadata": {
    "ExecuteTime": {
     "end_time": "2023-06-18T12:49:48.020923Z",
     "start_time": "2023-06-18T12:49:48.012674Z"
    }
   },
   "outputs": [],
   "source": [
    "def update_Q_table(value_old,reward,value_max,a,y):\n",
    "    value_new = value_old + a * (reward + y * value_max - value_old)\n",
    "    return value_new"
   ]
  },
  {
   "cell_type": "code",
   "execution_count": 34,
   "metadata": {
    "ExecuteTime": {
     "end_time": "2023-06-18T12:49:48.400269Z",
     "start_time": "2023-06-18T12:49:48.392297Z"
    }
   },
   "outputs": [
    {
     "data": {
      "text/plain": [
       "5.6"
      ]
     },
     "execution_count": 34,
     "metadata": {},
     "output_type": "execute_result"
    }
   ],
   "source": [
    "# test\n",
    "update_Q_table(2,6,0,0.9,0.01)"
   ]
  },
  {
   "cell_type": "markdown",
   "metadata": {},
   "source": [
    "### classification for load allocation"
   ]
  },
  {
   "cell_type": "code",
   "execution_count": 35,
   "metadata": {
    "ExecuteTime": {
     "end_time": "2023-06-18T12:49:49.034864Z",
     "start_time": "2023-06-18T12:49:49.026821Z"
    }
   },
   "outputs": [],
   "source": [
    "def class_chillers_condition(load):\n",
    "    chillers_condition = cal_chillers_condition(load)\n",
    "    if (chillers_condition['chiller_big_num'] == 0 or\n",
    "        chillers_condition['chiller_small_num'] == 0):\n",
    "        class_type = 'one' # either smaller chiller or larger chiller under operation\n",
    "        \n",
    "    else:\n",
    "        class_type = 'two' # two kinds of chillers will be operating\n",
    "        \n",
    "    return class_type"
   ]
  },
  {
   "cell_type": "code",
   "execution_count": 36,
   "metadata": {
    "ExecuteTime": {
     "end_time": "2023-06-18T12:49:49.411100Z",
     "start_time": "2023-06-18T12:49:49.398059Z"
    }
   },
   "outputs": [
    {
     "data": {
      "text/plain": [
       "'two'"
      ]
     },
     "execution_count": 36,
     "metadata": {},
     "output_type": "execute_result"
    }
   ],
   "source": [
    "# test\n",
    "class_chillers_condition(4000)"
   ]
  },
  {
   "cell_type": "markdown",
   "metadata": {},
   "source": [
    "### discretization ratio of part load"
   ]
  },
  {
   "cell_type": "code",
   "execution_count": 37,
   "metadata": {
    "ExecuteTime": {
     "end_time": "2023-06-18T12:49:50.001708Z",
     "start_time": "2023-06-18T12:49:49.993668Z"
    }
   },
   "outputs": [],
   "source": [
    "def cal_discrete_load(load):\n",
    "    load_max_set = 7000 # unit KW\n",
    "    assert load <= load_max_set,'invalid real-time load, greater than upper limit'\n",
    "    plr = load / load_max_set\n",
    "    # print('current part load rate:',plr)\n",
    "    for value in np.arange(0,1.05,0.05):\n",
    "        if value >= plr:\n",
    "            discrete_load = value\n",
    "            break\n",
    "    return discrete_load"
   ]
  },
  {
   "cell_type": "code",
   "execution_count": 38,
   "metadata": {
    "ExecuteTime": {
     "end_time": "2023-06-18T12:49:50.392769Z",
     "start_time": "2023-06-18T12:49:50.378816Z"
    },
    "scrolled": false
   },
   "outputs": [
    {
     "data": {
      "text/plain": [
       "0.1"
      ]
     },
     "execution_count": 38,
     "metadata": {},
     "output_type": "execute_result"
    }
   ],
   "source": [
    "# test\n",
    "cal_discrete_load(400)"
   ]
  },
  {
   "cell_type": "markdown",
   "metadata": {},
   "source": [
    "### when no need to allocate load, the following function is used to allocate load between two chiller of same make and model"
   ]
  },
  {
   "cell_type": "code",
   "execution_count": 39,
   "metadata": {
    "ExecuteTime": {
     "end_time": "2023-06-18T12:49:51.016934Z",
     "start_time": "2023-06-18T12:49:51.005007Z"
    }
   },
   "outputs": [],
   "source": [
    "# load allocation\n",
    "def cal_chillers_load_sharing(load,chillers_condition):\n",
    "    chiller_big_parameters = equipment_parameters()['chiller_big']\n",
    "    chiller_small_parameters = equipment_parameters()['chiller_small']\n",
    "    \n",
    "    if chillers_condition['chiller_big_num'] != 0 or chillers_condition['chiller_small_num'] != 0:\n",
    "        PL_big = ((load * chiller_big_parameters['Reference Capacity KW']) / \n",
    "                  (chillers_condition['chiller_big_num'] * chiller_big_parameters['Reference Capacity KW'] +\n",
    "                   chillers_condition['chiller_small_num'] * chiller_small_parameters['Reference Capacity KW']))\n",
    "        #print('PL-larger chiller',PL_big)\n",
    "\n",
    "        PL_small = ((load * chiller_small_parameters['Reference Capacity KW']) / \n",
    "                    (chillers_condition['chiller_big_num'] * chiller_big_parameters['Reference Capacity KW'] +\n",
    "                     chillers_condition['chiller_small_num'] * chiller_small_parameters['Reference Capacity KW']))\n",
    "        #print('PL-smaller chiller',PL_small)\n",
    "    else:\n",
    "        PL_big = 0\n",
    "        PL_small = 0\n",
    "    \n",
    "    Result = {'PL_big':PL_big,'PL_small':PL_small} # unit: KW\n",
    "    return Result"
   ]
  },
  {
   "cell_type": "code",
   "execution_count": 40,
   "metadata": {
    "ExecuteTime": {
     "end_time": "2023-06-18T12:49:51.393439Z",
     "start_time": "2023-06-18T12:49:51.381433Z"
    }
   },
   "outputs": [
    {
     "data": {
      "text/plain": [
       "{'PL_big': 649.7968659315148, 'PL_small': 400.0}"
      ]
     },
     "execution_count": 40,
     "metadata": {},
     "output_type": "execute_result"
    }
   ],
   "source": [
    "chillers_condition = cal_chillers_condition(400)\n",
    "cal_chillers_load_sharing(400,chillers_condition)"
   ]
  },
  {
   "cell_type": "markdown",
   "metadata": {},
   "source": [
    "### This part is used in decoupling the system\n",
    "**presume the fixed temperature of chilled water entering chillers, calculate the temperature of chilled water leaving chiller**"
   ]
  },
  {
   "cell_type": "code",
   "execution_count": 41,
   "metadata": {
    "ExecuteTime": {
     "end_time": "2023-06-18T12:49:52.029013Z",
     "start_time": "2023-06-18T12:49:52.017085Z"
    }
   },
   "outputs": [],
   "source": [
    "def cal_Tchs(load,chillers_load_sharing,tchr = 12):\n",
    "    chillers_condition = cal_chillers_condition(load)\n",
    "    # chillers_load_sharing = cal_chillers_load_sharing(load,chillers_condition)\n",
    "    pumps_condition = cal_pumps_condition(chillers_condition)\n",
    "    Q_condition = cal_Qchwcw(pumps_condition)\n",
    "    # calculate the temperature of chilled return water for two kinds of chillers\n",
    "    tchss = tchr - (chillers_load_sharing['PL_small']*3600)/(CHWP_Small_Q()*1000*4.2)\n",
    "    tchsb = tchr - (chillers_load_sharing['PL_big']*3600)/(CHWP_Big_Q()*1000*4.2)\n",
    "    tchs = (pumps_condition['chilled_cooling_pump_big']*CHWP_Big_Q()*tchsb + \n",
    "            pumps_condition['chilled_cooling_pump_small']*CHWP_Small_Q()*tchss) / (pumps_condition['chilled_cooling_pump_big']*CHWP_Big_Q() +\n",
    "                                                                                   pumps_condition['chilled_cooling_pump_small']*CHWP_Small_Q())\n",
    "    Result = {'tchss':tchss,'tchsb':tchsb,'tchs':tchs}\n",
    "    return Result"
   ]
  },
  {
   "cell_type": "code",
   "execution_count": 42,
   "metadata": {
    "ExecuteTime": {
     "end_time": "2023-06-18T12:49:52.403161Z",
     "start_time": "2023-06-18T12:49:52.389291Z"
    }
   },
   "outputs": [
    {
     "data": {
      "text/plain": [
       "{'tchss': 7.645416061161307,\n",
       " 'tchsb': 7.284008340178177,\n",
       " 'tchs': 7.42857142857143}"
      ]
     },
     "execution_count": 42,
     "metadata": {},
     "output_type": "execute_result"
    }
   ],
   "source": [
    "# test\n",
    "chillers_condition = cal_chillers_condition(4000)\n",
    "chillers_load_sharing = cal_chillers_load_sharing(4000,chillers_condition)\n",
    "cal_Tchs(4000,chillers_load_sharing)"
   ]
  },
  {
   "cell_type": "markdown",
   "metadata": {},
   "source": [
    "### calculate the total chiller COP  under some circumstance"
   ]
  },
  {
   "cell_type": "code",
   "execution_count": 43,
   "metadata": {
    "ExecuteTime": {
     "end_time": "2023-06-18T12:49:53.131067Z",
     "start_time": "2023-06-18T12:49:53.117876Z"
    }
   },
   "outputs": [],
   "source": [
    "# calculate the power (electricity consumption) of chillers\n",
    "# presume the fixed temperature of the cooling water entering chillers\n",
    "# but the temperature of the chilled water leaving chillers is unknown\n",
    "# chillers_condition: the number of chillers under operation\n",
    "# chillers_load_sharing: load allocation\n",
    "# T_cwl: the temperaute of chilled water leaving chillers\n",
    "# T_conde: the temperature of cooling water entering chillers\n",
    "def cal_chillers_powers(chillers_condition,chillers_load_sharing,T_cwl,T_conde):\n",
    "    # load the parameters of chillers\n",
    "    chiller_big_parameters = equipment_parameters()['chiller_big']\n",
    "    chiller_small_parameters = equipment_parameters()['chiller_small']\n",
    "    \n",
    "    power_chillers_big = (chillers_condition['chiller_big_num'] * \n",
    "                          cal_chiller_COP_big(T_cwl['tchsb'],T_conde,chillers_load_sharing['PL_big'],\n",
    "                                              chiller_big_parameters['Reference Capacity KW'],\n",
    "                                              chiller_big_parameters['Reference COP'])['P'])\n",
    "                     \n",
    "    power_chillers_small = (chillers_condition['chiller_small_num'] * \n",
    "                            cal_chiller_COP_small(T_cwl['tchss'],T_conde,chillers_load_sharing['PL_small'],\n",
    "                                                  chiller_small_parameters['Reference Capacity KW'],\n",
    "                                                  chiller_small_parameters['Reference COP'])['P'])\n",
    "    \n",
    "    # total COP\n",
    "    COP_all = (chillers_load_sharing['PL_small'] * chillers_condition['chiller_small_num'] + \n",
    "               chillers_load_sharing['PL_big'] * chillers_condition['chiller_big_num']) / (power_chillers_big + \n",
    "                                                                                           power_chillers_small)\n",
    "        \n",
    "    Result = {'power_chillers_big':power_chillers_big,\n",
    "              'power_chillers_small':power_chillers_small,\n",
    "              'power_chillers_all':power_chillers_big + power_chillers_small,\n",
    "              'COP_all':COP_all}\n",
    "    \n",
    "    return Result"
   ]
  },
  {
   "cell_type": "code",
   "execution_count": 44,
   "metadata": {
    "ExecuteTime": {
     "end_time": "2023-06-18T12:49:53.503684Z",
     "start_time": "2023-06-18T12:49:53.490745Z"
    }
   },
   "outputs": [
    {
     "name": "stdout",
     "output_type": "stream",
     "text": [
      "{'tchss': 7.645416061161307, 'tchsb': 7.284008340178177, 'tchs': 7.42857142857143}\n"
     ]
    }
   ],
   "source": [
    "chillers_condition = cal_chillers_condition(4000)\n",
    "chillers_load_sharing = cal_chillers_load_sharing(4000,chillers_condition)\n",
    "T_cwl = cal_Tchs(4000,chillers_load_sharing)\n",
    "cal_chillers_powers(chillers_condition,chillers_load_sharing,T_cwl,25)\n",
    "print(cal_Tchs(4000,chillers_load_sharing))"
   ]
  },
  {
   "cell_type": "markdown",
   "metadata": {},
   "source": [
    "### calculate the temperature of cooling water entering cooling tower (decoupling)"
   ]
  },
  {
   "cell_type": "code",
   "execution_count": 45,
   "metadata": {
    "ExecuteTime": {
     "end_time": "2023-06-18T12:49:54.353023Z",
     "start_time": "2023-06-18T12:49:54.333026Z"
    }
   },
   "outputs": [],
   "source": [
    "# Tcws_lis: the initialization for calulation of temperature of cooling water leaving cooling tower\n",
    "# load: cooling load\n",
    "# Q_cooling: the waterflow in cooling water loop\n",
    "# num_ct: the number of cooling towers under operation\n",
    "# f_ct: the real-time frequency of fan in cooling towers\n",
    "# tout: dry bulb temperature of ambient air\n",
    "# hout: humidity of ambient air\n",
    "# Tchs: temperature of chilled water leaving chillers\n",
    "def cal_Tcws(Tcws_lis,load,Q_cooling,num_ct,f_ct,tout,\n",
    "             hout,chillers_condition,chillers_load_sharing,Tchs):\n",
    "    # load the parameters of coolings\n",
    "    cooling_tower_parameters = equipment_parameters()['cooling_tower']\n",
    "    \n",
    "    inter_num = 0 # initialization for iteration\n",
    "    Tcws_final = 0 # in case no result finally\n",
    "    while inter_num < 100: # set the maximum of iteration\n",
    "        # calculate Temperature of cooling water leaving cooling tower from the perspective of cooling tower\n",
    "        Tcwr = cal_T_outwater(FRair = f_ct/50,\n",
    "                              FRwater = Q_cooling/(num_ct * cooling_tower_parameters['Reference Water Flow m3/h']),\n",
    "                              T_inwater = Tcws_lis[inter_num],Tdb = tout,reHum = (hout/100))\n",
    "        \n",
    "        # calculate the power (electricity consumption) of chillers\n",
    "        power_chillers_all = cal_chillers_powers(chillers_condition,chillers_load_sharing,Tchs,Tcwr)['power_chillers_all']\n",
    "        \n",
    "        # calculate Temperature of cooling water leaving cooling tower from the perspective of chillers\n",
    "        # Temp of cooling water leaving cooling tower == Temp of cooling water entering chillers\n",
    "        # Given the perfect insulation\n",
    "        Tcws = ((load + power_chillers_all) * 3600)/(4.2 * 1000 * Q_cooling) + Tcwr                    \n",
    "        if abs(Tcws_lis[inter_num] - Tcws) < 0.05:\n",
    "            Tcws_final = Tcws\n",
    "            Tcwr_final = Tcwr\n",
    "            break\n",
    "        Tcws_lis.append(Tcws)\n",
    "        inter_num += 1\n",
    "\n",
    "    if Tcws_final == 0: # means cannot converge\n",
    "        # from two perspectives (chiller and cooling tower), much difference between two kinds of Temperature\n",
    "        # failure of decoupling\n",
    "        Tcws_final = Tcws # use the result of the last time\n",
    "        Tcwr_final = Tcwr\n",
    "        \n",
    "    Result = {'Tcws':Tcws_final,'Tcwr':Tcwr_final}\n",
    "    # print('Celsius|temperature water entering tower',Tcws_final,'temperature water leaving tower:',Tcwr_final)\n",
    "    \n",
    "    return Result"
   ]
  },
  {
   "cell_type": "code",
   "execution_count": 46,
   "metadata": {
    "ExecuteTime": {
     "end_time": "2023-06-18T12:49:54.883930Z",
     "start_time": "2023-06-18T12:49:54.848891Z"
    }
   },
   "outputs": [
    {
     "data": {
      "text/plain": [
       "{'Tcws': 19.81533053139127, 'Tcwr': 17.8}"
      ]
     },
     "execution_count": 46,
     "metadata": {},
     "output_type": "execute_result"
    }
   ],
   "source": [
    "chillers_condition = cal_chillers_condition(4000)\n",
    "chillers_load_sharing = cal_chillers_load_sharing(4000,chillers_condition)\n",
    "T_cwl = cal_Tchs(4000,chillers_load_sharing)\n",
    "cal_chillers_powers(chillers_condition,chillers_load_sharing,T_cwl,25)\n",
    "cal_Tcws([30],4000,Q_condition['Q_cooling'],\n",
    "         20,40,25,60,chillers_condition,chillers_load_sharing,T_cwl)"
   ]
  },
  {
   "cell_type": "markdown",
   "metadata": {},
   "source": [
    "### After we using Q-learning to decide load allocation, we use traditional mode-based method to solve the optimal control set of cooling towers (the number of cooling towers we need, the real-time frequency of cooling tower fan)"
   ]
  },
  {
   "cell_type": "code",
   "execution_count": 47,
   "metadata": {
    "ExecuteTime": {
     "end_time": "2023-06-18T12:49:55.860735Z",
     "start_time": "2023-06-18T12:49:55.843730Z"
    }
   },
   "outputs": [],
   "source": [
    "# for one load, optimal control set\n",
    "# tcws: the temperature of cooling water entering cooling tower\n",
    "def cal_optimal_control_for_load(load,chillers_load_sharing,tout,hout,tcws):\n",
    "    # loading equipment parameters\n",
    "    chiller_big_parameters = equipment_parameters()['chiller_big'] # load larger chiller parameter\n",
    "    chiller_small_parameters = equipment_parameters()['chiller_small'] # load smaller chiller parameter\n",
    "    cooling_tower_parameters = equipment_parameters()['cooling_tower'] # load cooling tower\n",
    "      \n",
    "    # determine chiller operation\n",
    "    chillers_condition = cal_chillers_condition(load)\n",
    "    \n",
    "    if chillers_condition == {'chiller_big_num':0,'chiller_small_num':0}:\n",
    "        \n",
    "        print('no load, no need for optimization')\n",
    "        Result = {'load':load,'tout':tout,'hout':hout,'num_ct':0,\n",
    "                  'f_ct':0,'num_ch_small':chillers_condition['chiller_small_num'],\n",
    "                  'num_ch_big':chillers_condition['chiller_big_num'],\n",
    "                  'tcws':cal_Twb(tout,hout/100),'tcwr':cal_Twb(tout,hout/100),\n",
    "                  'power_cts':0,'power_chillers_small':0,'power_chillers_big':0,\n",
    "                  'power_chillers_all':0,'power_pumps':0,'power_all':0,\n",
    "                  'PLR_chiller_small':0,'PLR_chiller_big':0,\n",
    "                  'COP_total':0}\n",
    "        \n",
    "    else:\n",
    "        print('needs optimization')\n",
    "        \n",
    "        # for one load, needs to save these parameters\n",
    "        num_ct_lis = [] # the number of cooling towers\n",
    "        f_ct_lis = [] # the frequency of fan in cooling towers\n",
    "        tcws_lis = [] # the temperature of cooling water entering cooling towers\n",
    "        tcwr_lis = [] # the temperature of cooling water leaving cooling towers\n",
    "        power_cts_lis = [] # the power (electricity consumption) of cooling towers\n",
    "        power_chillers_small_lis = [] # the power (electricity consumption) of smaller chillers\n",
    "        power_chillers_big_lis = [] # the power (electricity consumption) of bigger chillers\n",
    "        power_chillers_all_lis = [] # the power (electricity consumption) of all chillers\n",
    "        power_all_lis = [] # the power (electricity consumption) of chillers + cooling towers\n",
    "        \n",
    "        # determine the pump operation\n",
    "        pumps_condition = cal_pumps_condition(chillers_condition)\n",
    "        # waterflow in chilled/cooling water loop\n",
    "        Q_condition = cal_Qchwcw(pumps_condition)\n",
    "        # calculate the power (electricity consumption) of all water pumps\n",
    "        power_pumps = cal_pumps_power(pumps_condition)\n",
    "        \n",
    "        # waterflow in chilled/cooling water loop\n",
    "        Q_chilled = Q_condition['Q_chilled']\n",
    "        Q_cooling = Q_condition['Q_cooling']\n",
    "        \n",
    "        \n",
    "        # chillers_load_sharing = cal_chillers_load_sharing(load,chillers_condition)\n",
    "        # calculate the temperature of chilled water leaving chillers\n",
    "        T_cwl = cal_Tchs(load,chillers_load_sharing)\n",
    "        # permutation of the number cooling tower and fan frequency considering safety issue\n",
    "        group_lis = []\n",
    "        for num_ct in range(1,21):\n",
    "            if (Q_cooling/(num_ct * cooling_tower_parameters['Reference Water Flow m3/h'])) <= 1:  \n",
    "                for f_best in range(30,51):\n",
    "                    group_lis.append([num_ct,f_best])\n",
    "        print('the number of permutation',len(group_lis),'can choose')\n",
    "        \n",
    "        for group in group_lis:\n",
    "            # print(group,'one control set in permutation')\n",
    "            \n",
    "            # cal_Tcws(Tcws_lis,load,Q_cooling,num_ct,f_ct,tout,hout,chillers_condition,chillers_load_sharing,Tchs)\n",
    "            Tcw_condition = cal_Tcws([tcws],load,Q_cooling,group[0],group[1],\n",
    "                                     tout,hout,chillers_condition,chillers_load_sharing,T_cwl)\n",
    "            \n",
    "            \n",
    "            power_cts = group[0] * cal_CT_FanPower(group[1])\n",
    "            \n",
    "            \n",
    "            # cal_chillers_powers(chillers_condition,chillers_load_sharing,T_cwl,T_conde)\n",
    "            power_chs = cal_chillers_powers(chillers_condition,chillers_load_sharing,T_cwl,Tcw_condition['Tcwr'])\n",
    "            \n",
    "            num_ct_lis.append(group[0]) # the number of cooling towers under operation\n",
    "            f_ct_lis.append(group[1]) # the frequency of cooling tower fan\n",
    "            tcws_lis.append(Tcw_condition['Tcws']) # Temp of cooling water entering cooling tower\n",
    "            tcwr_lis.append(Tcw_condition['Tcwr']) # Temp of cooling water leaving cooling tower\n",
    "            power_cts_lis.append(power_cts) # the power (electricity consumption) of cooling towers\n",
    "            power_chillers_big_lis.append(power_chs['power_chillers_big']) # the power (electricity consumption) of smaller chillers\n",
    "            power_chillers_small_lis.append(power_chs['power_chillers_small']) # the power (electricity consumption) of bigger chillers\n",
    "            power_chillers_all_lis.append(power_chs['power_chillers_all']) # the power (electricity consumption) of all chillers\n",
    "            power_all_lis.append(power_cts + power_chs['power_chillers_all'] + power_pumps) # the power (electricity consumption) of chillers + cooling towers\n",
    "        \n",
    "        # pick one control set from reasonable permutation (the minmum power of all chillers and cooling towers)\n",
    "        index_optimal = power_all_lis.index(min(power_all_lis))\n",
    "        Result = {'load':load,'tout':tout,'hout':hout,'num_ct':num_ct_lis[index_optimal],\n",
    "                  'f_ct':f_ct_lis[index_optimal],'num_ch_small':chillers_condition['chiller_small_num'],\n",
    "                  'num_ch_big':chillers_condition['chiller_big_num'],'tcws':tcws_lis[index_optimal],\n",
    "                  'tcwr':tcwr_lis[index_optimal],'power_cts':power_cts_lis[index_optimal],\n",
    "                  'power_chillers_small':power_chillers_small_lis[index_optimal],\n",
    "                  'power_chillers_big':power_chillers_big_lis[index_optimal],\n",
    "                  'power_chillers_all':power_chillers_all_lis[index_optimal],\n",
    "                  'power_pumps':power_pumps,'power_all':power_all_lis[index_optimal],\n",
    "                  'PLR_chiller_small':chillers_load_sharing['PL_small']/chiller_small_parameters['Reference Capacity KW'],\n",
    "                  'PLR_chiller_big':chillers_load_sharing['PL_big']/chiller_big_parameters['Reference Capacity KW']}\n",
    "        \n",
    "        COP_total = Result['load'] / Result['power_all']\n",
    "        Result['COP_total'] = COP_total\n",
    "                                        \n",
    "        \n",
    "        print('optimal control set：the number of cooling tower',Result['num_ct'],', real-time frequency',Result['f_ct'],'Hz，the number of larger chillers',\n",
    "              chillers_condition['chiller_big_num'],', the number of smaller chillers',chillers_condition['chiller_small_num'],'\\n the temperature of water entering towers',Result['tcws'],\n",
    "              'Celsius, the temperature of water leaving towers',Result['tcwr'],'Celsius, All electricity consumption',Result['power_all'],'KW\\n total COP',\n",
    "              Result['COP_total'])\n",
    "        \n",
    "    return Result\n",
    "            \n",
    "        \n",
    "    "
   ]
  },
  {
   "cell_type": "code",
   "execution_count": 48,
   "metadata": {
    "ExecuteTime": {
     "end_time": "2023-06-18T12:50:23.370337Z",
     "start_time": "2023-06-18T12:49:57.240251Z"
    }
   },
   "outputs": [
    {
     "name": "stdout",
     "output_type": "stream",
     "text": [
      "needs optimization\n",
      "the number of permutation 315 can choose\n",
      "optimal control set：the number of cooling tower 6 , real-time frequency 30 Hz，the number of larger chillers 0 , the number of smaller chillers 1 \n",
      " the temperature of water entering towers 24.659723036602113 Celsius, the temperature of water leaving towers 22.9 Celsius, All electricity consumption 196.69516749530607 KW\n",
      " total COP 7.626013486253016\n"
     ]
    }
   ],
   "source": [
    "# the preparation of Q-learning is done\n",
    "chillers_condition = cal_chillers_condition(1500)\n",
    "chillers_load_sharing = cal_chillers_load_sharing(1500,chillers_condition)\n",
    "optimal_result_a_load = cal_optimal_control_for_load(1500,chillers_load_sharing,24,83,30)"
   ]
  },
  {
   "cell_type": "code",
   "execution_count": 49,
   "metadata": {
    "ExecuteTime": {
     "end_time": "2023-06-18T12:50:23.716166Z",
     "start_time": "2023-06-18T12:50:23.703209Z"
    }
   },
   "outputs": [
    {
     "data": {
      "text/plain": [
       "0.8705745792222868"
      ]
     },
     "execution_count": 49,
     "metadata": {},
     "output_type": "execute_result"
    }
   ],
   "source": [
    "optimal_result_a_load['PLR_chiller_small']"
   ]
  },
  {
   "cell_type": "markdown",
   "metadata": {},
   "source": [
    "### optimize the load allocation by Q-learning"
   ]
  },
  {
   "cell_type": "code",
   "execution_count": 50,
   "metadata": {
    "ExecuteTime": {
     "end_time": "2023-06-18T12:50:28.004109Z",
     "start_time": "2023-06-18T12:50:27.995138Z"
    }
   },
   "outputs": [],
   "source": [
    "def cal_chillers_load_sharing_Q(load,chillers_condition,action):\n",
    "    chiller_big_parameters = equipment_parameters()['chiller_big']\n",
    "    chiller_small_parameters = equipment_parameters()['chiller_small']\n",
    "    # goal is optimize the load allocation for smaller chillers\n",
    "    PL_small = chiller_small_parameters['Reference Capacity KW'] * action\n",
    "    PL_big = (load - PL_small * chillers_condition['chiller_small_num']) / chillers_condition['chiller_big_num']\n",
    "    Result = {'PL_big':PL_big,'PL_small':PL_small}\n",
    "    return Result"
   ]
  },
  {
   "cell_type": "code",
   "execution_count": 51,
   "metadata": {
    "ExecuteTime": {
     "end_time": "2023-06-18T12:50:28.596745Z",
     "start_time": "2023-06-18T12:50:28.578655Z"
    }
   },
   "outputs": [
    {
     "data": {
      "text/plain": [
       "{'PL_big': 2353.875, 'PL_small': 1292.25}"
      ]
     },
     "execution_count": 51,
     "metadata": {},
     "output_type": "execute_result"
    }
   ],
   "source": [
    "# test\n",
    "chillers_condition = cal_chillers_condition(6000)\n",
    "cal_chillers_load_sharing_Q(6000,chillers_condition,random.choice(np.arange(0,1.05,0.05)))\n",
    "# 0 means no need to use smaller chillers to generate chilled water\n",
    "# 1 means smaller chillers will run at full capacity"
   ]
  },
  {
   "cell_type": "markdown",
   "metadata": {},
   "source": [
    "### training Q-table"
   ]
  },
  {
   "cell_type": "code",
   "execution_count": 52,
   "metadata": {
    "ExecuteTime": {
     "end_time": "2023-06-18T12:50:29.904481Z",
     "start_time": "2023-06-18T12:50:29.886548Z"
    }
   },
   "outputs": [],
   "source": [
    "def train_Q(load,tout,hout,Q_table):\n",
    "    #Q_table = Q_table_ini()\n",
    "    Q_para_dict = Q_para_ini()\n",
    "    num_ct_lis = [] # every load, the number of cooling towers\n",
    "    f_ct_lis = [] # every load, the frequency of fan in cooling towers\n",
    "    num_ch_small_lis = [] # every load, the number of larger chillers\n",
    "    num_ch_big_lis = [] # every load, the number of smaller chillers\n",
    "    plr_ch_small_lis = [] # the ratio of part load for smaller chillers\n",
    "    plr_ch_big_lis = [] # the ratio of part load for larger chillers\n",
    "    tcws_lis = [] # the best control set, temperature of water entering tower\n",
    "    tcwr_lis = [] # the best control set, temperature of water leaving tower\n",
    "    power_cts_lis = [] # the best control set, power(electricity consumption) for cooling towers\n",
    "    power_chillers_small_lis = [] # the best control set, power(electricity consumption) for smaller chillers\n",
    "    power_chillers_big_lis = [] # the best control set, power(electricity consumption) for larger chillers\n",
    "    power_chillers_all_lis = [] # the best control set, power(electricity consumption) for all chillers\n",
    "    power_all_lis = [] # the best control set, power(electricity consumption) for all\n",
    "    COP_total_lis = []\n",
    "    Q_or_not = [] # in the load, whether using Q-learning or not, 0 is no, 1 is yes\n",
    "    \n",
    "    for i in range(len(load)):\n",
    "        print(load[i],tout[i],hout[i])\n",
    "        # chillers_condition = cal_chillers_condition(load[i])\n",
    "        #print('A')\n",
    "        \n",
    "        try:\n",
    "            tcws = tcws_lis[-1]\n",
    "        except:\n",
    "            tcws = 30\n",
    "            \n",
    "        if class_chillers_condition(load[i]) == 'one':\n",
    "            # only need one kind of chillers\n",
    "            print('no need to use Q-learning')\n",
    "            Q_or_not.append(0)\n",
    "            chillers_load_sharing = cal_chillers_load_sharing(load[i],\n",
    "                                                              chillers_condition)\n",
    "\n",
    "            optimal_result = cal_optimal_control_for_load(load[i],chillers_load_sharing,\n",
    "                                                          tout[i],hout[i],tcws)\n",
    "            \n",
    "            print('------')\n",
    "        else:\n",
    "            print('need to use Q-learning')\n",
    "            Q_or_not.append(1)\n",
    "            state = cal_discrete_load(load[i])\n",
    "            # Take the Q value of all the actions in this state\n",
    "            if random.uniform(0, 1) < Q_para_dict['epsilon']:\n",
    "                action = random.choice(np.arange(0,1.05,0.05))            \n",
    "            # Then the action of taking the Q value with a certain probability\n",
    "            else:\n",
    "                action = Q_table[tuple((state,))].idxmax()[0]\n",
    "            # Or, there is a certain probability that another action will be selected from a series of actions\n",
    "            # Then calculate the load distribution under this action\n",
    "            chillers_load_sharing = cal_chillers_load_sharing_Q(load[i],chillers_condition,action)\n",
    "            # and then calculate Temp of chilled water leaving chillers\n",
    "            # and then calculate the total COP\n",
    "            optimal_result = cal_optimal_control_for_load(load[i],chillers_load_sharing,\n",
    "                                                            tout[i],hout[i],tcws)\n",
    "            \n",
    "            # using load allocation for next load (using random order)\n",
    "            \n",
    "            while 1:\n",
    "                load_next = random.choice(load)\n",
    "                chillers_condition_next = cal_chillers_condition(load_next)\n",
    "                if class_chillers_condition(load_next) != 'one':\n",
    "                    break\n",
    "            state_next = cal_discrete_load(load_next)\n",
    "            max_next = Q_table[tuple((state_next,))].values.max()        \n",
    "            \n",
    "            print('oupdated state',state,', action',action,', the inital Q value',Q_table.loc[tuple((action,)),tuple((state,))])\n",
    "            print('reward(total COP)',optimal_result['COP_total'])\n",
    "            #print('the maximun of next step',max_next)\n",
    "            #print('parameter alpha and gamma', Q_para_dict['alpha'],Q_para_dict['gamma'])\n",
    "            # update Q table\n",
    "            Q_table.loc[tuple((action,)),tuple((state,))] = update_Q_table(value_old = copy.deepcopy(Q_table.loc[tuple((action,)),tuple((state,))]),\n",
    "                                                                           reward = optimal_result['COP_total'],\n",
    "                                                                           value_max = max_next,\n",
    "                                                                           a = Q_para_dict['alpha'],\n",
    "                                                                           y = Q_para_dict['gamma'])\n",
    "            print('updated Q value',Q_table.loc[tuple((action,)),tuple((state,))])\n",
    "            print('------')\n",
    "        #print('B')\n",
    "        num_ct_lis.append(optimal_result['num_ct']) \n",
    "        f_ct_lis.append(optimal_result['f_ct']) \n",
    "        num_ch_small_lis.append(optimal_result['num_ch_small']) \n",
    "        num_ch_big_lis.append(optimal_result['num_ch_big']) \n",
    "        tcws_lis.append(optimal_result['tcws']) \n",
    "        tcwr_lis.append(optimal_result['tcwr']) \n",
    "        power_cts_lis.append(optimal_result['power_cts']) \n",
    "        power_chillers_small_lis.append(optimal_result['power_chillers_small']) \n",
    "        power_chillers_big_lis.append(optimal_result['power_chillers_big']) \n",
    "        power_chillers_all_lis.append(optimal_result['power_chillers_all']) \n",
    "        power_all_lis.append(optimal_result['power_all']) \n",
    "        plr_ch_small_lis.append(optimal_result['PLR_chiller_small']) \n",
    "        plr_ch_big_lis.append(optimal_result['PLR_chiller_big']) \n",
    "        COP_total_lis.append(optimal_result['COP_total'])\n",
    "        \n",
    "    return num_ct_lis,f_ct_lis,num_ch_small_lis,num_ch_big_lis,tcws_lis,tcwr_lis,power_cts_lis,power_chillers_small_lis,power_chillers_big_lis,power_chillers_all_lis,power_all_lis,plr_ch_small_lis,plr_ch_big_lis,COP_total_lis,Q_table\n",
    "        \n",
    "        \n",
    "    "
   ]
  },
  {
   "cell_type": "code",
   "execution_count": 53,
   "metadata": {
    "ExecuteTime": {
     "end_time": "2023-06-18T12:53:45.977095Z",
     "start_time": "2023-06-18T12:50:31.662785Z"
    }
   },
   "outputs": [
    {
     "name": "stdout",
     "output_type": "stream",
     "text": [
      "3923.769926 23.0 94.0\n",
      "need to use Q-learning\n",
      "needs optimization\n",
      "the number of permutation 168 can choose\n",
      "optimal control set：the number of cooling tower 13 , real-time frequency 30 Hz，the number of larger chillers 1 , the number of smaller chillers 1 \n",
      " the temperature of water entering towers 26.0620878565251 Celsius, the temperature of water leaving towers 24.2 Celsius, All electricity consumption 341.8966559639741 KW\n",
      " total COP 11.476479390934582\n",
      "oupdated state 0.6000000000000001 , action 0.0 , the inital Q value 0\n",
      "reward(total COP) 11.476479390934582\n",
      "updated Q value 10.328831451841124\n",
      "------\n",
      "3923.769926 23.0 94.0\n",
      "need to use Q-learning\n",
      "needs optimization\n",
      "the number of permutation 168 can choose\n",
      "optimal control set：the number of cooling tower 13 , real-time frequency 30 Hz，the number of larger chillers 1 , the number of smaller chillers 1 \n",
      " the temperature of water entering towers 26.04520235718107 Celsius, the temperature of water leaving towers 24.2 Celsius, All electricity consumption 304.46713241803945 KW\n",
      " total COP 12.887334980422732\n",
      "oupdated state 0.6000000000000001 , action 0.25 , the inital Q value 0.0\n",
      "reward(total COP) 12.887334980422732\n",
      "updated Q value 11.691560965447028\n",
      "------\n",
      "3923.769926 23.0 94.0\n",
      "need to use Q-learning\n",
      "needs optimization\n",
      "the number of permutation 168 can choose\n",
      "optimal control set：the number of cooling tower 13 , real-time frequency 30 Hz，the number of larger chillers 1 , the number of smaller chillers 1 \n",
      " the temperature of water entering towers 26.04520235718107 Celsius, the temperature of water leaving towers 24.2 Celsius, All electricity consumption 304.46713241803945 KW\n",
      " total COP 12.887334980422732\n",
      "oupdated state 0.6000000000000001 , action 0.25 , the inital Q value 11.691560965447028\n",
      "reward(total COP) 12.887334980422732\n",
      "updated Q value 12.872981627614184\n",
      "------\n",
      "3923.769926 24.0 90.0\n",
      "need to use Q-learning\n",
      "needs optimization\n",
      "the number of permutation 168 can choose\n",
      "optimal control set：the number of cooling tower 13 , real-time frequency 30 Hz，the number of larger chillers 1 , the number of smaller chillers 1 \n",
      " the temperature of water entering towers 26.24514019276572 Celsius, the temperature of water leaving towers 24.4 Celsius, All electricity consumption 304.3293346306841 KW\n",
      " total COP 12.893170258337575\n",
      "oupdated state 0.6000000000000001 , action 0.25 , the inital Q value 12.872981627614184\n",
      "reward(total COP) 12.893170258337575\n",
      "updated Q value 13.007008229913763\n",
      "------\n",
      "3923.769926 26.0 88.0\n",
      "need to use Q-learning\n",
      "needs optimization\n",
      "the number of permutation 168 can choose\n",
      "optimal control set：the number of cooling tower 13 , real-time frequency 30 Hz，the number of larger chillers 1 , the number of smaller chillers 1 \n",
      " the temperature of water entering towers 27.544459437847333 Celsius, the temperature of water leaving towers 25.7 Celsius, All electricity consumption 302.8203278949244 KW\n",
      " total COP 12.957419184096217\n",
      "oupdated state 0.6000000000000001 , action 0.25 , the inital Q value 13.007008229913763\n",
      "reward(total COP) 12.957419184096217\n",
      "updated Q value 13.079441162747196\n",
      "------\n",
      "3923.769926 27.0 78.0\n",
      "need to use Q-learning\n",
      "needs optimization\n",
      "the number of permutation 168 can choose\n",
      "optimal control set：the number of cooling tower 13 , real-time frequency 30 Hz，the number of larger chillers 1 , the number of smaller chillers 1 \n",
      " the temperature of water entering towers 26.744935120098365 Celsius, the temperature of water leaving towers 24.9 Celsius, All electricity consumption 303.874756884715 KW\n",
      " total COP 12.91245763954198\n",
      "oupdated state 0.6000000000000001 , action 0.25 , the inital Q value 13.079441162747196\n",
      "reward(total COP) 12.91245763954198\n",
      "updated Q value 13.046870962327226\n",
      "------\n",
      "3923.769926 26.0 80.0\n",
      "need to use Q-learning\n",
      "needs optimization\n",
      "the number of permutation 168 can choose\n",
      "optimal control set：the number of cooling tower 13 , real-time frequency 30 Hz，the number of larger chillers 1 , the number of smaller chillers 1 \n",
      " the temperature of water entering towers 26.34510485384699 Celsius, the temperature of water leaving towers 24.5 Celsius, All electricity consumption 304.2510000274996 KW\n",
      " total COP 12.896489824668947\n",
      "oupdated state 0.6000000000000001 , action 0.25 , the inital Q value 13.046870962327226\n",
      "reward(total COP) 12.896489824668947\n",
      "updated Q value 13.02894977709572\n",
      "------\n",
      "3923.769926 29.0 74.0\n",
      "need to use Q-learning\n",
      "needs optimization\n",
      "the number of permutation 168 can choose\n",
      "optimal control set：the number of cooling tower 13 , real-time frequency 30 Hz，the number of larger chillers 1 , the number of smaller chillers 1 \n",
      " the temperature of water entering towers 27.544459437847333 Celsius, the temperature of water leaving towers 25.7 Celsius, All electricity consumption 302.8203278949244 KW\n",
      " total COP 12.957419184096217\n",
      "oupdated state 0.6000000000000001 , action 0.25 , the inital Q value 13.02894977709572\n",
      "reward(total COP) 12.957419184096217\n",
      "updated Q value 13.081832791390028\n",
      "------\n",
      "3923.769926 28.0 72.0\n",
      "need to use Q-learning\n",
      "needs optimization\n",
      "the number of permutation 168 can choose\n",
      "optimal control set：the number of cooling tower 13 , real-time frequency 30 Hz，the number of larger chillers 1 , the number of smaller chillers 1 \n",
      " the temperature of water entering towers 26.44506667712089 Celsius, the temperature of water leaving towers 24.6 Celsius, All electricity consumption 304.1663749513103 KW\n",
      " total COP 12.900077882139671\n",
      "oupdated state 0.6000000000000001 , action 0.25 , the inital Q value 13.081832791390028\n",
      "reward(total COP) 12.900077882139671\n",
      "updated Q value 13.035989868187217\n",
      "------\n",
      "3923.769926 29.0 75.0\n",
      "need to use Q-learning\n",
      "needs optimization\n",
      "the number of permutation 168 can choose\n",
      "optimal control set：the number of cooling tower 13 , real-time frequency 30 Hz，the number of larger chillers 1 , the number of smaller chillers 1 \n",
      " the temperature of water entering towers 27.881741665651766 Celsius, the temperature of water leaving towers 26.0 Celsius, All electricity consumption 385.46259952807964 KW\n",
      " total COP 10.179379091003527\n",
      "oupdated state 0.6000000000000001 , action 0.9500000000000001 , the inital Q value 0.0\n",
      "reward(total COP) 10.179379091003527\n",
      "updated Q value 9.27876509071686\n",
      "------\n",
      "3923.769926 30.0 68.0\n",
      "need to use Q-learning\n",
      "needs optimization\n",
      "the number of permutation 168 can choose\n",
      "optimal control set：the number of cooling tower 13 , real-time frequency 30 Hz，the number of larger chillers 1 , the number of smaller chillers 1 \n",
      " the temperature of water entering towers 27.344595385254316 Celsius, the temperature of water leaving towers 25.5 Celsius, All electricity consumption 303.1216779803997 KW\n",
      " total COP 12.944537494456984\n",
      "oupdated state 0.6000000000000001 , action 0.25 , the inital Q value 13.035989868187217\n",
      "reward(total COP) 12.944537494456984\n",
      "updated Q value 13.071006640643693\n",
      "------\n",
      "3923.769926 29.0 70.0\n",
      "need to use Q-learning\n",
      "needs optimization\n",
      "the number of permutation 168 can choose\n",
      "optimal control set：the number of cooling tower 13 , real-time frequency 30 Hz，the number of larger chillers 1 , the number of smaller chillers 1 \n",
      " the temperature of water entering towers 26.944833226379835 Celsius, the temperature of water leaving towers 25.1 Celsius, All electricity consumption 303.64889247529504 KW\n",
      " total COP 12.922062366221997\n",
      "oupdated state 0.6000000000000001 , action 0.25 , the inital Q value 13.071006640643693\n",
      "reward(total COP) 12.922062366221997\n",
      "updated Q value 13.054595853429959\n",
      "------\n",
      "3923.769926 29.0 73.0\n",
      "need to use Q-learning\n",
      "needs optimization\n",
      "the number of permutation 168 can choose\n",
      "optimal control set：the number of cooling tower 13 , real-time frequency 30 Hz，the number of larger chillers 1 , the number of smaller chillers 1 \n",
      " the temperature of water entering towers 27.344595385254316 Celsius, the temperature of water leaving towers 25.5 Celsius, All electricity consumption 303.1216779803997 KW\n",
      " total COP 12.944537494456984\n",
      "oupdated state 0.6000000000000001 , action 0.25 , the inital Q value 13.054595853429959\n",
      "reward(total COP) 12.944537494456984\n",
      "updated Q value 13.07303469303515\n",
      "------\n",
      "3923.769926 28.0 74.0\n",
      "need to use Q-learning\n",
      "needs optimization\n",
      "the number of permutation 168 can choose\n",
      "optimal control set：the number of cooling tower 13 , real-time frequency 30 Hz，the number of larger chillers 1 , the number of smaller chillers 1 \n",
      " the temperature of water entering towers 26.844885592142784 Celsius, the temperature of water leaving towers 25.0 Celsius, All electricity consumption 303.7649699165073 KW\n",
      " total COP 12.917124469877107\n",
      "oupdated state 0.6000000000000001 , action 0.25 , the inital Q value 13.07303469303515\n",
      "reward(total COP) 12.917124469877107\n",
      "updated Q value 13.050372804430227\n",
      "------\n",
      "3923.769926 27.0 77.0\n",
      "need to use Q-learning\n",
      "needs optimization\n",
      "the number of permutation 168 can choose\n",
      "optimal control set：the number of cooling tower 13 , real-time frequency 30 Hz，the number of larger chillers 1 , the number of smaller chillers 1 \n",
      " the temperature of water entering towers 26.64498181024658 Celsius, the temperature of water leaving towers 24.8 Celsius, All electricity consumption 303.97825337991804 KW\n",
      " total COP 12.908061291792457\n",
      "oupdated state 0.6000000000000001 , action 0.25 , the inital Q value 13.050372804430227\n",
      "reward(total COP) 12.908061291792457\n",
      "updated Q value 13.039745798296106\n",
      "------\n",
      "3923.769926 26.0 80.0\n",
      "need to use Q-learning\n",
      "needs optimization\n",
      "the number of permutation 168 can choose\n",
      "optimal control set：the number of cooling tower 13 , real-time frequency 30 Hz，the number of larger chillers 1 , the number of smaller chillers 1 \n",
      " the temperature of water entering towers 26.342968355669726 Celsius, the temperature of water leaving towers 24.5 Celsius, All electricity consumption 299.5150957345619 KW\n",
      " total COP 13.100407898897181\n",
      "oupdated state 0.6000000000000001 , action 0.30000000000000004 , the inital Q value 0.0\n",
      "reward(total COP) 13.100407898897181\n",
      "updated Q value 11.907724821192128\n",
      "------\n",
      "3923.769926 25.0 85.0\n",
      "need to use Q-learning\n",
      "needs optimization\n",
      "the number of permutation 168 can choose\n",
      "optimal control set：the number of cooling tower 13 , real-time frequency 30 Hz，the number of larger chillers 1 , the number of smaller chillers 1 \n",
      " the temperature of water entering towers 26.34510485384699 Celsius, the temperature of water leaving towers 24.5 Celsius, All electricity consumption 304.2510000274996 KW\n",
      " total COP 12.896489824668947\n",
      "oupdated state 0.6000000000000001 , action 0.25 , the inital Q value 13.039745798296106\n",
      "reward(total COP) 12.896489824668947\n",
      "updated Q value 13.028173134216328\n",
      "------\n",
      "3923.769926 24.0 89.0\n",
      "need to use Q-learning\n",
      "needs optimization\n",
      "the number of permutation 168 can choose\n"
     ]
    },
    {
     "name": "stdout",
     "output_type": "stream",
     "text": [
      "optimal control set：the number of cooling tower 13 , real-time frequency 30 Hz，the number of larger chillers 1 , the number of smaller chillers 1 \n",
      " the temperature of water entering towers 26.145172693877083 Celsius, the temperature of water leaving towers 24.3 Celsius, All electricity consumption 304.4013787608641 KW\n",
      " total COP 12.890118770068025\n",
      "oupdated state 0.6000000000000001 , action 0.25 , the inital Q value 13.028173134216328\n",
      "reward(total COP) 12.890118770068025\n",
      "updated Q value 13.021177764690803\n",
      "------\n",
      "3923.769926 24.0 92.0\n",
      "need to use Q-learning\n",
      "needs optimization\n",
      "the number of permutation 168 can choose\n",
      "optimal control set：the number of cooling tower 13 , real-time frequency 30 Hz，the number of larger chillers 1 , the number of smaller chillers 1 \n",
      " the temperature of water entering towers 26.54502566258742 Celsius, the temperature of water leaving towers 24.7 Celsius, All electricity consumption 304.0754594021165 KW\n",
      " total COP 12.903934877596008\n",
      "oupdated state 0.6000000000000001 , action 0.25 , the inital Q value 13.021177764690803\n",
      "reward(total COP) 12.903934877596008\n",
      "updated Q value 13.032849766187704\n",
      "------\n",
      "3923.769926 23.0 93.0\n",
      "need to use Q-learning\n",
      "needs optimization\n",
      "the number of permutation 168 can choose\n",
      "optimal control set：the number of cooling tower 13 , real-time frequency 30 Hz，the number of larger chillers 1 , the number of smaller chillers 1 \n",
      " the temperature of water entering towers 25.94522918267769 Celsius, the temperature of water leaving towers 24.1 Celsius, All electricity consumption 304.5265956022102 KW\n",
      " total COP 12.884818543485935\n",
      "oupdated state 0.6000000000000001 , action 0.25 , the inital Q value 13.032849766187704\n",
      "reward(total COP) 12.884818543485935\n",
      "updated Q value 13.0169173136518\n",
      "------\n",
      "3923.769926 23.0 95.0\n",
      "need to use Q-learning\n",
      "needs optimization\n",
      "the number of permutation 168 can choose\n",
      "optimal control set：the number of cooling tower 13 , real-time frequency 30 Hz，the number of larger chillers 1 , the number of smaller chillers 1 \n",
      " the temperature of water entering towers 26.14514331762733 Celsius, the temperature of water leaving towers 24.3 Celsius, All electricity consumption 304.33626140724925 KW\n",
      " total COP 12.892876806255385\n",
      "oupdated state 0.6000000000000001 , action 0.65 , the inital Q value 0.0\n",
      "reward(total COP) 12.892876806255385\n",
      "updated Q value 11.720741381452713\n",
      "------\n",
      "3923.769926 23.0 95.0\n",
      "need to use Q-learning\n",
      "needs optimization\n",
      "the number of permutation 168 can choose\n",
      "optimal control set：the number of cooling tower 13 , real-time frequency 30 Hz，the number of larger chillers 1 , the number of smaller chillers 1 \n",
      " the temperature of water entering towers 26.145172693877083 Celsius, the temperature of water leaving towers 24.3 Celsius, All electricity consumption 304.4013787608641 KW\n",
      " total COP 12.890118770068025\n",
      "oupdated state 0.6000000000000001 , action 0.25 , the inital Q value 13.0169173136518\n",
      "reward(total COP) 12.890118770068025\n",
      "updated Q value 13.019950880249269\n",
      "------\n",
      "3923.769926 23.0 95.0\n",
      "need to use Q-learning\n",
      "needs optimization\n",
      "the number of permutation 168 can choose\n",
      "optimal control set：the number of cooling tower 13 , real-time frequency 30 Hz，the number of larger chillers 1 , the number of smaller chillers 1 \n",
      " the temperature of water entering towers 26.145172693877083 Celsius, the temperature of water leaving towers 24.3 Celsius, All electricity consumption 304.4013787608641 KW\n",
      " total COP 12.890118770068025\n",
      "oupdated state 0.6000000000000001 , action 0.25 , the inital Q value 13.019950880249269\n",
      "reward(total COP) 12.890118770068025\n",
      "updated Q value 13.020281539008392\n",
      "------\n",
      "3923.769926 23.0 96.0\n",
      "need to use Q-learning\n",
      "needs optimization\n",
      "the number of permutation 168 can choose\n",
      "optimal control set：the number of cooling tower 13 , real-time frequency 30 Hz，the number of larger chillers 1 , the number of smaller chillers 1 \n",
      " the temperature of water entering towers 26.24514019276572 Celsius, the temperature of water leaving towers 24.4 Celsius, All electricity consumption 304.3293346306841 KW\n",
      " total COP 12.893170258337575\n",
      "oupdated state 0.6000000000000001 , action 0.25 , the inital Q value 13.020281539008392\n",
      "reward(total COP) 12.893170258337575\n",
      "updated Q value 13.023063920255732\n",
      "------\n",
      "3923.769926 23.0 97.0\n",
      "need to use Q-learning\n",
      "needs optimization\n",
      "the number of permutation 168 can choose\n",
      "optimal control set：the number of cooling tower 13 , real-time frequency 30 Hz，the number of larger chillers 1 , the number of smaller chillers 1 \n",
      " the temperature of water entering towers 26.4671092347087 Celsius, the temperature of water leaving towers 24.6 Celsius, All electricity consumption 353.0273776042885 KW\n",
      " total COP 11.11463352397045\n",
      "oupdated state 0.6000000000000001 , action 0.8500000000000001 , the inital Q value 0.0\n",
      "reward(total COP) 11.11463352397045\n",
      "updated Q value 10.120377746855707\n",
      "------\n",
      "3923.769926 23.0 93.0\n",
      "need to use Q-learning\n",
      "needs optimization\n",
      "the number of permutation 168 can choose\n",
      "optimal control set：the number of cooling tower 13 , real-time frequency 30 Hz，the number of larger chillers 1 , the number of smaller chillers 1 \n",
      " the temperature of water entering towers 25.94522918267769 Celsius, the temperature of water leaving towers 24.1 Celsius, All electricity consumption 304.5265956022102 KW\n",
      " total COP 12.884818543485935\n",
      "oupdated state 0.6000000000000001 , action 0.25 , the inital Q value 13.023063920255732\n",
      "reward(total COP) 12.884818543485935\n",
      "updated Q value 13.015850656445215\n",
      "------\n",
      "3923.769926 24.0 89.0\n",
      "need to use Q-learning\n",
      "needs optimization\n",
      "the number of permutation 168 can choose\n",
      "optimal control set：the number of cooling tower 13 , real-time frequency 30 Hz，the number of larger chillers 1 , the number of smaller chillers 1 \n",
      " the temperature of water entering towers 26.04520235718107 Celsius, the temperature of water leaving towers 24.2 Celsius, All electricity consumption 304.46713241803945 KW\n",
      " total COP 12.887334980422732\n",
      "oupdated state 0.6000000000000001 , action 0.25 , the inital Q value 13.015850656445215\n",
      "reward(total COP) 12.887334980422732\n",
      "updated Q value 13.017329203932988\n",
      "------\n",
      "3923.769926 24.0 89.0\n",
      "need to use Q-learning\n",
      "needs optimization\n",
      "the number of permutation 168 can choose\n",
      "optimal control set：the number of cooling tower 13 , real-time frequency 30 Hz，the number of larger chillers 1 , the number of smaller chillers 1 \n",
      " the temperature of water entering towers 26.04520235718107 Celsius, the temperature of water leaving towers 24.2 Celsius, All electricity consumption 304.46713241803945 KW\n",
      " total COP 12.887334980422732\n",
      "oupdated state 0.6000000000000001 , action 0.25 , the inital Q value 13.017329203932988\n",
      "reward(total COP) 12.887334980422732\n",
      "updated Q value 13.017490365609156\n",
      "------\n",
      "3923.769926 27.0 75.0\n",
      "need to use Q-learning\n",
      "needs optimization\n",
      "the number of permutation 168 can choose\n",
      "optimal control set：the number of cooling tower 13 , real-time frequency 30 Hz，the number of larger chillers 1 , the number of smaller chillers 1 \n",
      " the temperature of water entering towers 26.145172693877083 Celsius, the temperature of water leaving towers 24.3 Celsius, All electricity consumption 304.4013787608641 KW\n",
      " total COP 12.890118770068025\n",
      "oupdated state 0.6000000000000001 , action 0.25 , the inital Q value 13.017490365609156\n",
      "reward(total COP) 12.890118770068025\n",
      "updated Q value 13.020013342912621\n",
      "------\n",
      "3923.769926 29.0 66.0\n",
      "need to use Q-learning\n",
      "needs optimization\n",
      "the number of permutation 168 can choose\n",
      "optimal control set：the number of cooling tower 13 , real-time frequency 30 Hz，the number of larger chillers 1 , the number of smaller chillers 1 \n",
      " the temperature of water entering towers 26.04306765323515 Celsius, the temperature of water leaving towers 24.2 Celsius, All electricity consumption 299.735205337911 KW\n",
      " total COP 13.090787655645851\n",
      "oupdated state 0.6000000000000001 , action 0.30000000000000004 , the inital Q value 11.907724821192128\n",
      "reward(total COP) 13.090787655645851\n",
      "updated Q value 13.089661492286693\n",
      "------\n",
      "3923.769926 29.0 65.0\n",
      "need to use Q-learning\n",
      "needs optimization\n",
      "the number of permutation 168 can choose\n",
      "optimal control set：the number of cooling tower 13 , real-time frequency 30 Hz，the number of larger chillers 1 , the number of smaller chillers 1 \n",
      " the temperature of water entering towers 25.84311994750573 Celsius, the temperature of water leaving towers 24.0 Celsius, All electricity consumption 299.8511243043698 KW\n",
      " total COP 13.085726908988008\n",
      "oupdated state 0.6000000000000001 , action 0.30000000000000004 , the inital Q value 13.089661492286693\n",
      "reward(total COP) 13.085726908988008\n",
      "updated Q value 13.203927320748456\n",
      "------\n",
      "3923.769926 31.0 62.0\n",
      "need to use Q-learning\n",
      "needs optimization\n",
      "the number of permutation 168 can choose\n",
      "optimal control set：the number of cooling tower 13 , real-time frequency 30 Hz，the number of larger chillers 1 , the number of smaller chillers 1 \n",
      " the temperature of water entering towers 26.74279702741801 Celsius, the temperature of water leaving towers 24.9 Celsius, All electricity consumption 299.13531810992936 KW\n",
      " total COP 13.11703997639641\n",
      "oupdated state 0.6000000000000001 , action 0.30000000000000004 , the inital Q value 13.203927320748456\n",
      "reward(total COP) 13.11703997639641\n",
      "updated Q value 13.24456405671835\n",
      "------\n",
      "3923.769926 31.0 57.0\n",
      "need to use Q-learning\n",
      "needs optimization\n",
      "the number of permutation 168 can choose\n"
     ]
    },
    {
     "name": "stdout",
     "output_type": "stream",
     "text": [
      "optimal control set：the number of cooling tower 13 , real-time frequency 30 Hz，the number of larger chillers 1 , the number of smaller chillers 1 \n",
      " the temperature of water entering towers 25.64316111849122 Celsius, the temperature of water leaving towers 23.8 Celsius, All electricity consumption 299.94238665554275 KW\n",
      " total COP 13.081745363672464\n",
      "oupdated state 0.6000000000000001 , action 0.30000000000000004 , the inital Q value 13.24456405671835\n",
      "reward(total COP) 13.081745363672464\n",
      "updated Q value 13.217228309487519\n",
      "------\n",
      "3923.769926 32.0 55.0\n",
      "need to use Q-learning\n",
      "needs optimization\n",
      "the number of permutation 168 can choose\n",
      "optimal control set：the number of cooling tower 13 , real-time frequency 30 Hz，the number of larger chillers 1 , the number of smaller chillers 1 \n",
      " the temperature of water entering towers 25.84311994750573 Celsius, the temperature of water leaving towers 24.0 Celsius, All electricity consumption 299.8511243043698 KW\n",
      " total COP 13.085726908988008\n",
      "oupdated state 0.6000000000000001 , action 0.30000000000000004 , the inital Q value 13.217228309487519\n",
      "reward(total COP) 13.085726908988008\n",
      "updated Q value 13.217832103823346\n",
      "------\n",
      "3923.769926 32.0 55.0\n",
      "need to use Q-learning\n",
      "needs optimization\n",
      "the number of permutation 168 can choose\n",
      "optimal control set：the number of cooling tower 13 , real-time frequency 30 Hz，the number of larger chillers 1 , the number of smaller chillers 1 \n",
      " the temperature of water entering towers 25.84311994750573 Celsius, the temperature of water leaving towers 24.0 Celsius, All electricity consumption 299.8511243043698 KW\n",
      " total COP 13.085726908988008\n",
      "oupdated state 0.6000000000000001 , action 0.30000000000000004 , the inital Q value 13.217832103823346\n",
      "reward(total COP) 13.085726908988008\n",
      "updated Q value 13.217897917405953\n",
      "------\n",
      "3923.769926 32.0 56.0\n",
      "need to use Q-learning\n",
      "needs optimization\n",
      "the number of permutation 168 can choose\n",
      "optimal control set：the number of cooling tower 13 , real-time frequency 30 Hz，the number of larger chillers 1 , the number of smaller chillers 1 \n",
      " the temperature of water entering towers 26.04306765323515 Celsius, the temperature of water leaving towers 24.2 Celsius, All electricity consumption 299.735205337911 KW\n",
      " total COP 13.090787655645851\n",
      "oupdated state 0.6000000000000001 , action 0.30000000000000004 , the inital Q value 13.217897917405953\n",
      "reward(total COP) 13.090787655645851\n",
      "updated Q value 13.222459763078515\n",
      "------\n",
      "3923.769926 31.0 60.0\n",
      "need to use Q-learning\n",
      "needs optimization\n",
      "the number of permutation 168 can choose\n",
      "optimal control set：the number of cooling tower 13 , real-time frequency 30 Hz，the number of larger chillers 1 , the number of smaller chillers 1 \n",
      " the temperature of water entering towers 26.24300423567947 Celsius, the temperature of water leaving towers 24.4 Celsius, All electricity consumption 299.59462975616646 KW\n",
      " total COP 13.096930105834911\n",
      "oupdated state 0.6000000000000001 , action 0.30000000000000004 , the inital Q value 13.222459763078515\n",
      "reward(total COP) 13.096930105834911\n",
      "updated Q value 13.228485209426978\n",
      "------\n",
      "3923.769926 30.0 69.0\n",
      "need to use Q-learning\n",
      "needs optimization\n",
      "the number of permutation 168 can choose\n",
      "optimal control set：the number of cooling tower 13 , real-time frequency 30 Hz，the number of larger chillers 1 , the number of smaller chillers 1 \n",
      " the temperature of water entering towers 27.442390141358512 Celsius, the temperature of water leaving towers 25.6 Celsius, All electricity consumption 298.2333873446963 KW\n",
      " total COP 13.156709116088772\n",
      "oupdated state 0.6000000000000001 , action 0.30000000000000004 , the inital Q value 13.228485209426978\n",
      "reward(total COP) 13.156709116088772\n",
      "updated Q value 13.282943092307434\n",
      "------\n",
      "3923.769926 29.0 68.0\n",
      "need to use Q-learning\n",
      "needs optimization\n",
      "the number of permutation 168 can choose\n",
      "optimal control set：the number of cooling tower 13 , real-time frequency 30 Hz，the number of larger chillers 1 , the number of smaller chillers 1 \n",
      " the temperature of water entering towers 26.542888253186415 Celsius, the temperature of water leaving towers 24.7 Celsius, All electricity consumption 299.3375352298886 KW\n",
      " total COP 13.108178775463555\n",
      "oupdated state 0.6000000000000001 , action 0.30000000000000004 , the inital Q value 13.282943092307434\n",
      "reward(total COP) 13.108178775463555\n",
      "updated Q value 13.24520169497871\n",
      "------\n",
      "3923.769926 29.0 71.0\n",
      "need to use Q-learning\n",
      "needs optimization\n",
      "the number of permutation 168 can choose\n",
      "optimal control set：the number of cooling tower 13 , real-time frequency 30 Hz，the number of larger chillers 1 , the number of smaller chillers 1 \n",
      " the temperature of water entering towers 27.042639332605862 Celsius, the temperature of water leaving towers 25.2 Celsius, All electricity consumption 298.7857612763297 KW\n",
      " total COP 13.132385925081389\n",
      "oupdated state 0.6000000000000001 , action 0.30000000000000004 , the inital Q value 13.24520169497871\n",
      "reward(total COP) 13.132385925081389\n",
      "updated Q value 13.26287431732593\n",
      "------\n",
      "3923.769926 27.0 82.0\n",
      "need to use Q-learning\n",
      "needs optimization\n",
      "the number of permutation 168 can choose\n",
      "optimal control set：the number of cooling tower 13 , real-time frequency 30 Hz，the number of larger chillers 1 , the number of smaller chillers 1 \n",
      " the temperature of water entering towers 27.34245661040226 Celsius, the temperature of water leaving towers 25.5 Celsius, All electricity consumption 298.3807270583369 KW\n",
      " total COP 13.150212363524597\n",
      "oupdated state 0.6000000000000001 , action 0.30000000000000004 , the inital Q value 13.26287431732593\n",
      "reward(total COP) 13.150212363524597\n",
      "updated Q value 13.280844427760663\n",
      "------\n",
      "3923.769926 26.0 87.0\n",
      "need to use Q-learning\n",
      "needs optimization\n",
      "the number of permutation 168 can choose\n",
      "optimal control set：the number of cooling tower 13 , real-time frequency 30 Hz，the number of larger chillers 1 , the number of smaller chillers 1 \n",
      " the temperature of water entering towers 27.34245661040226 Celsius, the temperature of water leaving towers 25.5 Celsius, All electricity consumption 298.3807270583369 KW\n",
      " total COP 13.150212363524597\n",
      "oupdated state 0.6000000000000001 , action 0.30000000000000004 , the inital Q value 13.280844427760663\n",
      "reward(total COP) 13.150212363524597\n",
      "updated Q value 13.28280316979805\n",
      "------\n",
      "3923.769926 26.0 89.0\n",
      "need to use Q-learning\n",
      "needs optimization\n",
      "the number of permutation 168 can choose\n",
      "optimal control set：the number of cooling tower 13 , real-time frequency 30 Hz，the number of larger chillers 1 , the number of smaller chillers 1 \n",
      " the temperature of water entering towers 27.742174049299628 Celsius, the temperature of water leaving towers 25.9 Celsius, All electricity consumption 297.7543832808461 KW\n",
      " total COP 13.177874605120573\n",
      "oupdated state 0.6000000000000001 , action 0.30000000000000004 , the inital Q value 13.28280316979805\n",
      "reward(total COP) 13.177874605120573\n",
      "updated Q value 13.307912690116504\n",
      "------\n",
      "3923.769926 25.0 90.0\n",
      "need to use Q-learning\n",
      "needs optimization\n",
      "the number of permutation 168 can choose\n",
      "optimal control set：the number of cooling tower 13 , real-time frequency 30 Hz，the number of larger chillers 1 , the number of smaller chillers 1 \n",
      " the temperature of water entering towers 27.142581206025934 Celsius, the temperature of water leaving towers 25.3 Celsius, All electricity consumption 298.6569140241536 KW\n",
      " total COP 13.138051529196035\n",
      "oupdated state 0.6000000000000001 , action 0.30000000000000004 , the inital Q value 13.307912690116504\n",
      "reward(total COP) 13.138051529196035\n",
      "updated Q value 13.274808859499132\n",
      "------\n",
      "3923.769926 25.0 91.0\n",
      "need to use Q-learning\n",
      "needs optimization\n",
      "the number of permutation 168 can choose\n",
      "optimal control set：the number of cooling tower 13 , real-time frequency 30 Hz，the number of larger chillers 1 , the number of smaller chillers 1 \n",
      " the temperature of water entering towers 27.142581206025934 Celsius, the temperature of water leaving towers 25.3 Celsius, All electricity consumption 298.6569140241536 KW\n",
      " total COP 13.138051529196035\n",
      "oupdated state 0.6000000000000001 , action 0.30000000000000004 , the inital Q value 13.274808859499132\n",
      "reward(total COP) 13.138051529196035\n",
      "updated Q value 13.271200541961838\n",
      "------\n",
      "3923.769926 25.0 92.0\n",
      "need to use Q-learning\n",
      "needs optimization\n",
      "the number of permutation 168 can choose\n",
      "optimal control set：the number of cooling tower 13 , real-time frequency 30 Hz，the number of larger chillers 1 , the number of smaller chillers 1 \n",
      " the temperature of water entering towers 27.34245661040226 Celsius, the temperature of water leaving towers 25.5 Celsius, All electricity consumption 298.3807270583369 KW\n",
      " total COP 13.150212363524597\n",
      "oupdated state 0.6000000000000001 , action 0.30000000000000004 , the inital Q value 13.271200541961838\n",
      "reward(total COP) 13.150212363524597\n",
      "updated Q value 13.281751986245977\n",
      "------\n",
      "3923.769926 25.0 92.0\n",
      "need to use Q-learning\n",
      "needs optimization\n",
      "the number of permutation 168 can choose\n",
      "optimal control set：the number of cooling tower 13 , real-time frequency 30 Hz，the number of larger chillers 1 , the number of smaller chillers 1 \n"
     ]
    },
    {
     "name": "stdout",
     "output_type": "stream",
     "text": [
      " the temperature of water entering towers 27.34245661040226 Celsius, the temperature of water leaving towers 25.5 Celsius, All electricity consumption 298.3807270583369 KW\n",
      " total COP 13.150212363524597\n",
      "oupdated state 0.6000000000000001 , action 0.30000000000000004 , the inital Q value 13.281751986245977\n",
      "reward(total COP) 13.150212363524597\n",
      "updated Q value 13.282902093672948\n",
      "------\n",
      "3923.769926 25.0 92.0\n",
      "need to use Q-learning\n",
      "needs optimization\n",
      "the number of permutation 168 can choose\n",
      "optimal control set：the number of cooling tower 13 , real-time frequency 30 Hz，the number of larger chillers 1 , the number of smaller chillers 1 \n",
      " the temperature of water entering towers 27.351973709807034 Celsius, the temperature of water leaving towers 25.5 Celsius, All electricity consumption 319.4769640722551 KW\n",
      " total COP 12.281855555358831\n",
      "oupdated state 0.6000000000000001 , action 0.75 , the inital Q value 0.0\n",
      "reward(total COP) 12.281855555358831\n",
      "updated Q value 11.173216118666005\n",
      "------\n",
      "3923.769926 24.0 100.0\n",
      "need to use Q-learning\n",
      "needs optimization\n",
      "the number of permutation 168 can choose\n",
      "optimal control set：the number of cooling tower 13 , real-time frequency 30 Hz，the number of larger chillers 1 , the number of smaller chillers 1 \n",
      " the temperature of water entering towers 27.642248860807197 Celsius, the temperature of water leaving towers 25.8 Celsius, All electricity consumption 297.92021545595105 KW\n",
      " total COP 13.170539367376861\n",
      "oupdated state 0.6000000000000001 , action 0.30000000000000004 , the inital Q value 13.282902093672948\n",
      "reward(total COP) 13.170539367376861\n",
      "updated Q value 13.301321758849525\n",
      "------\n",
      "3923.769926 25.0 91.0\n",
      "need to use Q-learning\n",
      "needs optimization\n",
      "the number of permutation 168 can choose\n",
      "optimal control set：the number of cooling tower 13 , real-time frequency 30 Hz，the number of larger chillers 1 , the number of smaller chillers 1 \n",
      " the temperature of water entering towers 27.24252029862473 Celsius, the temperature of water leaving towers 25.4 Celsius, All electricity consumption 298.521902618156 KW\n",
      " total COP 13.143993427574241\n",
      "oupdated state 0.6000000000000001 , action 0.30000000000000004 , the inital Q value 13.301321758849525\n",
      "reward(total COP) 13.143993427574241\n",
      "updated Q value 13.279438156531414\n",
      "------\n",
      "3923.769926 27.0 86.0\n",
      "need to use Q-learning\n",
      "needs optimization\n",
      "the number of permutation 168 can choose\n",
      "optimal control set：the number of cooling tower 13 , real-time frequency 30 Hz，the number of larger chillers 1 , the number of smaller chillers 1 \n",
      " the temperature of water entering towers 28.041932929849295 Celsius, the temperature of water leaving towers 26.2 Celsius, All electricity consumption 297.2199018326028 KW\n",
      " total COP 13.201571973500975\n",
      "oupdated state 0.6000000000000001 , action 0.30000000000000004 , the inital Q value 13.279438156531414\n",
      "reward(total COP) 13.201571973500975\n",
      "updated Q value 13.328873535212804\n",
      "------\n",
      "3923.769926 27.0 86.0\n",
      "need to use Q-learning\n",
      "needs optimization\n",
      "the number of permutation 168 can choose\n",
      "optimal control set：the number of cooling tower 13 , real-time frequency 30 Hz，the number of larger chillers 1 , the number of smaller chillers 1 \n",
      " the temperature of water entering towers 28.041932929849295 Celsius, the temperature of water leaving towers 26.2 Celsius, All electricity consumption 297.2199018326028 KW\n",
      " total COP 13.201571973500975\n",
      "oupdated state 0.6000000000000001 , action 0.30000000000000004 , the inital Q value 13.328873535212804\n",
      "reward(total COP) 13.201571973500975\n",
      "updated Q value 13.334261991489074\n",
      "------\n",
      "3923.769926 29.0 77.0\n",
      "need to use Q-learning\n",
      "needs optimization\n",
      "the number of permutation 168 can choose\n",
      "optimal control set：the number of cooling tower 13 , real-time frequency 30 Hz，the number of larger chillers 1 , the number of smaller chillers 1 \n",
      " the temperature of water entering towers 28.14184699505664 Celsius, the temperature of water leaving towers 26.3 Celsius, All electricity consumption 297.029413042212 KW\n",
      " total COP 13.210038311735739\n",
      "oupdated state 0.6000000000000001 , action 0.30000000000000004 , the inital Q value 13.334261991489074\n",
      "reward(total COP) 13.210038311735739\n",
      "updated Q value 13.342469037634473\n",
      "------\n",
      "3923.769926 30.0 73.0\n",
      "need to use Q-learning\n",
      "needs optimization\n",
      "the number of permutation 168 can choose\n",
      "optimal control set：the number of cooling tower 13 , real-time frequency 30 Hz，the number of larger chillers 1 , the number of smaller chillers 1 \n",
      " the temperature of water entering towers 28.241758279442706 Celsius, the temperature of water leaving towers 26.4 Celsius, All electricity consumption 296.8327600979999 KW\n",
      " total COP 13.218790017330162\n",
      "oupdated state 0.6000000000000001 , action 0.30000000000000004 , the inital Q value 13.342469037634473\n",
      "reward(total COP) 13.218790017330162\n",
      "updated Q value 13.351240140699304\n",
      "------\n",
      "3923.769926 31.0 66.0\n",
      "need to use Q-learning\n",
      "needs optimization\n",
      "the number of permutation 168 can choose\n",
      "optimal control set：the number of cooling tower 13 , real-time frequency 30 Hz，the number of larger chillers 1 , the number of smaller chillers 1 \n",
      " the temperature of water entering towers 27.642248860807197 Celsius, the temperature of water leaving towers 25.8 Celsius, All electricity consumption 297.92021545595105 KW\n",
      " total COP 13.170539367376861\n",
      "oupdated state 0.6000000000000001 , action 0.30000000000000004 , the inital Q value 13.351240140699304\n",
      "reward(total COP) 13.170539367376861\n",
      "updated Q value 13.308770605975399\n",
      "------\n",
      "3923.769926 32.0 63.0\n",
      "need to use Q-learning\n",
      "needs optimization\n",
      "the number of permutation 168 can choose\n",
      "optimal control set：the number of cooling tower 13 , real-time frequency 30 Hz，the number of larger chillers 1 , the number of smaller chillers 1 \n",
      " the temperature of water entering towers 27.742174049299628 Celsius, the temperature of water leaving towers 25.9 Celsius, All electricity consumption 297.7543832808461 KW\n",
      " total COP 13.177874605120573\n",
      "oupdated state 0.6000000000000001 , action 0.30000000000000004 , the inital Q value 13.308770605975399\n",
      "reward(total COP) 13.177874605120573\n",
      "updated Q value 13.310743140659834\n",
      "------\n",
      "3923.769926 33.0 60.0\n",
      "need to use Q-learning\n",
      "needs optimization\n",
      "the number of permutation 168 can choose\n",
      "optimal control set：the number of cooling tower 13 , real-time frequency 30 Hz，the number of larger chillers 1 , the number of smaller chillers 1 \n",
      " the temperature of water entering towers 27.84209645697079 Celsius, the temperature of water leaving towers 26.0 Celsius, All electricity consumption 297.58238695191983 KW\n",
      " total COP 13.185491138069137\n",
      "oupdated state 0.6000000000000001 , action 0.30000000000000004 , the inital Q value 13.310743140659834\n",
      "reward(total COP) 13.185491138069137\n",
      "updated Q value 13.317813026594145\n",
      "------\n",
      "3923.769926 34.0 61.0\n",
      "need to use Q-learning\n",
      "needs optimization\n",
      "the number of permutation 168 can choose\n",
      "optimal control set：the number of cooling tower 13 , real-time frequency 30 Hz，the number of larger chillers 1 , the number of smaller chillers 1 \n",
      " the temperature of water entering towers 28.841167588512395 Celsius, the temperature of water leaving towers 27.0 Celsius, All electricity consumption 295.5233952024763 KW\n",
      " total COP 13.277358035602052\n",
      "oupdated state 0.6000000000000001 , action 0.30000000000000004 , the inital Q value 13.317813026594145\n",
      "reward(total COP) 13.277358035602052\n",
      "updated Q value 13.401263851940609\n",
      "------\n",
      "3923.769926 33.0 62.0\n",
      "need to use Q-learning\n",
      "needs optimization\n",
      "the number of permutation 168 can choose\n",
      "optimal control set：the number of cooling tower 13 , real-time frequency 30 Hz，the number of larger chillers 1 , the number of smaller chillers 1 \n",
      " the temperature of water entering towers 28.44157250575103 Celsius, the temperature of water leaving towers 26.6 Celsius, All electricity consumption 296.42096174811115 KW\n",
      " total COP 13.237154021969241\n",
      "oupdated state 0.6000000000000001 , action 0.30000000000000004 , the inital Q value 13.401263851940609\n",
      "reward(total COP) 13.237154021969241\n",
      "updated Q value 13.374176379633843\n",
      "------\n",
      "3923.769926 33.0 65.0\n",
      "need to use Q-learning\n",
      "needs optimization\n",
      "the number of permutation 168 can choose\n",
      "optimal control set：the number of cooling tower 13 , real-time frequency 30 Hz，the number of larger chillers 1 , the number of smaller chillers 1 \n",
      " the temperature of water entering towers 28.941059407149556 Celsius, the temperature of water leaving towers 27.1 Celsius, All electricity consumption 295.283593181514 KW\n",
      " total COP 13.28814067765701\n",
      "oupdated state 0.6000000000000001 , action 0.30000000000000004 , the inital Q value 13.374176379633843\n",
      "reward(total COP) 13.28814067765701\n",
      "updated Q value 13.417111835271399\n",
      "------\n",
      "3923.769926 32.0 69.0\n",
      "need to use Q-learning\n",
      "needs optimization\n",
      "the number of permutation 168 can choose\n"
     ]
    },
    {
     "name": "stdout",
     "output_type": "stream",
     "text": [
      "optimal control set：the number of cooling tower 13 , real-time frequency 30 Hz，the number of larger chillers 1 , the number of smaller chillers 1 \n",
      " the temperature of water entering towers 29.04094844496544 Celsius, the temperature of water leaving towers 27.2 Celsius, All electricity consumption 295.0376270067302 KW\n",
      " total COP 13.299218699011885\n",
      "oupdated state 0.6000000000000001 , action 0.30000000000000004 , the inital Q value 13.417111835271399\n",
      "reward(total COP) 13.299218699011885\n",
      "updated Q value 13.43176201915528\n",
      "------\n",
      "3923.769926 30.0 74.0\n",
      "need to use Q-learning\n",
      "needs optimization\n",
      "the number of permutation 168 can choose\n",
      "optimal control set：the number of cooling tower 13 , real-time frequency 30 Hz，the number of larger chillers 1 , the number of smaller chillers 1 \n",
      " the temperature of water entering towers 28.44157250575103 Celsius, the temperature of water leaving towers 26.6 Celsius, All electricity consumption 296.42096174811115 KW\n",
      " total COP 13.237154021969241\n",
      "oupdated state 0.6000000000000001 , action 0.30000000000000004 , the inital Q value 13.43176201915528\n",
      "reward(total COP) 13.237154021969241\n",
      "updated Q value 13.377500679860242\n",
      "------\n",
      "3923.769926 29.0 80.0\n",
      "need to use Q-learning\n",
      "needs optimization\n",
      "the number of permutation 168 can choose\n",
      "optimal control set：the number of cooling tower 13 , real-time frequency 30 Hz，the number of larger chillers 1 , the number of smaller chillers 1 \n",
      " the temperature of water entering towers 28.641375608774258 Celsius, the temperature of water leaving towers 26.8 Celsius, All electricity consumption 295.98450678293665 KW\n",
      " total COP 13.256673359857778\n",
      "oupdated state 0.6000000000000001 , action 0.30000000000000004 , the inital Q value 13.377500679860242\n",
      "reward(total COP) 13.256673359857778\n",
      "updated Q value 13.389153597976767\n",
      "------\n",
      "3923.769926 28.0 82.0\n",
      "need to use Q-learning\n",
      "needs optimization\n",
      "the number of permutation 168 can choose\n",
      "optimal control set：the number of cooling tower 13 , real-time frequency 30 Hz，the number of larger chillers 1 , the number of smaller chillers 1 \n",
      " the temperature of water entering towers 28.341666783007504 Celsius, the temperature of water leaving towers 26.5 Celsius, All electricity consumption 296.62994299996626 KW\n",
      " total COP 13.227828203440831\n",
      "oupdated state 0.6000000000000001 , action 0.30000000000000004 , the inital Q value 13.389153597976767\n",
      "reward(total COP) 13.227828203440831\n",
      "updated Q value 13.364463125276215\n",
      "------\n",
      "3923.769926 27.0 86.0\n",
      "need to use Q-learning\n",
      "needs optimization\n",
      "the number of permutation 168 can choose\n",
      "optimal control set：the number of cooling tower 13 , real-time frequency 30 Hz，the number of larger chillers 1 , the number of smaller chillers 1 \n",
      " the temperature of water entering towers 28.14184699505664 Celsius, the temperature of water leaving towers 26.3 Celsius, All electricity consumption 297.029413042212 KW\n",
      " total COP 13.210038311735739\n",
      "oupdated state 0.6000000000000001 , action 0.30000000000000004 , the inital Q value 13.364463125276215\n",
      "reward(total COP) 13.210038311735739\n",
      "updated Q value 13.345760961217273\n",
      "------\n",
      "3923.769926 27.0 87.0\n",
      "need to use Q-learning\n",
      "needs optimization\n",
      "the number of permutation 168 can choose\n",
      "optimal control set：the number of cooling tower 13 , real-time frequency 30 Hz，the number of larger chillers 1 , the number of smaller chillers 1 \n",
      " the temperature of water entering towers 28.241758279442706 Celsius, the temperature of water leaving towers 26.4 Celsius, All electricity consumption 296.8327600979999 KW\n",
      " total COP 13.218790017330162\n",
      "oupdated state 0.6000000000000001 , action 0.30000000000000004 , the inital Q value 13.345760961217273\n",
      "reward(total COP) 13.218790017330162\n",
      "updated Q value 13.351598960369829\n",
      "------\n",
      "3923.769926 26.0 87.0\n",
      "need to use Q-learning\n",
      "needs optimization\n",
      "the number of permutation 168 can choose\n",
      "optimal control set：the number of cooling tower 13 , real-time frequency 30 Hz，the number of larger chillers 1 , the number of smaller chillers 1 \n",
      " the temperature of water entering towers 27.442390141358512 Celsius, the temperature of water leaving towers 25.6 Celsius, All electricity consumption 298.2333873446963 KW\n",
      " total COP 13.156709116088772\n",
      "oupdated state 0.6000000000000001 , action 0.30000000000000004 , the inital Q value 13.351598960369829\n",
      "reward(total COP) 13.156709116088772\n",
      "updated Q value 13.296362491160206\n",
      "------\n",
      "3923.769926 26.0 83.0\n",
      "need to use Q-learning\n",
      "needs optimization\n",
      "the number of permutation 168 can choose\n",
      "optimal control set：the number of cooling tower 13 , real-time frequency 30 Hz，the number of larger chillers 1 , the number of smaller chillers 1 \n",
      " the temperature of water entering towers 26.842747243301904 Celsius, the temperature of water leaving towers 25.0 Celsius, All electricity consumption 299.0249633192177 KW\n",
      " total COP 13.121880803681474\n",
      "oupdated state 0.6000000000000001 , action 0.30000000000000004 , the inital Q value 13.296362491160206\n",
      "reward(total COP) 13.121880803681474\n",
      "updated Q value 13.25899623484979\n",
      "------\n",
      "3923.769926 26.0 80.0\n",
      "need to use Q-learning\n",
      "needs optimization\n",
      "the number of permutation 168 can choose\n",
      "optimal control set：the number of cooling tower 13 , real-time frequency 30 Hz，the number of larger chillers 1 , the number of smaller chillers 1 \n",
      " the temperature of water entering towers 26.342968355669726 Celsius, the temperature of water leaving towers 24.5 Celsius, All electricity consumption 299.5150957345619 KW\n",
      " total COP 13.100407898897181\n",
      "oupdated state 0.6000000000000001 , action 0.30000000000000004 , the inital Q value 13.25899623484979\n",
      "reward(total COP) 13.100407898897181\n",
      "updated Q value 13.235597698606089\n",
      "------\n",
      "3923.769926 26.0 77.0\n",
      "need to use Q-learning\n",
      "needs optimization\n",
      "the number of permutation 168 can choose\n",
      "optimal control set：the number of cooling tower 13 , real-time frequency 30 Hz，the number of larger chillers 1 , the number of smaller chillers 1 \n",
      " the temperature of water entering towers 25.84311994750573 Celsius, the temperature of water leaving towers 24.0 Celsius, All electricity consumption 299.8511243043698 KW\n",
      " total COP 13.085726908988008\n",
      "oupdated state 0.6000000000000001 , action 0.30000000000000004 , the inital Q value 13.235597698606089\n",
      "reward(total COP) 13.085726908988008\n",
      "updated Q value 13.21983436723727\n",
      "------\n",
      "3923.769926 26.0 78.0\n",
      "need to use Q-learning\n",
      "needs optimization\n",
      "the number of permutation 168 can choose\n",
      "optimal control set：the number of cooling tower 13 , real-time frequency 30 Hz，the number of larger chillers 1 , the number of smaller chillers 1 \n",
      " the temperature of water entering towers 25.84311994750573 Celsius, the temperature of water leaving towers 24.0 Celsius, All electricity consumption 299.8511243043698 KW\n",
      " total COP 13.085726908988008\n",
      "oupdated state 0.6000000000000001 , action 0.30000000000000004 , the inital Q value 13.21983436723727\n",
      "reward(total COP) 13.085726908988008\n",
      "updated Q value 13.21811616411807\n",
      "------\n",
      "3923.769926 25.0 84.0\n",
      "need to use Q-learning\n",
      "needs optimization\n",
      "the number of permutation 168 can choose\n",
      "optimal control set：the number of cooling tower 13 , real-time frequency 30 Hz，the number of larger chillers 1 , the number of smaller chillers 1 \n",
      " the temperature of water entering towers 26.04306765323515 Celsius, the temperature of water leaving towers 24.2 Celsius, All electricity consumption 299.735205337911 KW\n",
      " total COP 13.090787655645851\n",
      "oupdated state 0.6000000000000001 , action 0.30000000000000004 , the inital Q value 13.21811616411807\n",
      "reward(total COP) 13.090787655645851\n",
      "updated Q value 13.222483551970136\n",
      "------\n",
      "3923.769926 25.0 84.0\n",
      "need to use Q-learning\n",
      "needs optimization\n",
      "the number of permutation 168 can choose\n",
      "optimal control set：the number of cooling tower 13 , real-time frequency 30 Hz，the number of larger chillers 1 , the number of smaller chillers 1 \n",
      " the temperature of water entering towers 26.04306765323515 Celsius, the temperature of water leaving towers 24.2 Celsius, All electricity consumption 299.735205337911 KW\n",
      " total COP 13.090787655645851\n",
      "oupdated state 0.6000000000000001 , action 0.30000000000000004 , the inital Q value 13.222483551970136\n",
      "reward(total COP) 13.090787655645851\n",
      "updated Q value 13.222959597246012\n",
      "------\n",
      "3923.769926 26.0 84.0\n",
      "need to use Q-learning\n",
      "needs optimization\n",
      "the number of permutation 168 can choose\n",
      "optimal control set：the number of cooling tower 13 , real-time frequency 30 Hz，the number of larger chillers 1 , the number of smaller chillers 1 \n",
      " the temperature of water entering towers 26.842747243301904 Celsius, the temperature of water leaving towers 25.0 Celsius, All electricity consumption 299.0249633192177 KW\n",
      " total COP 13.121880803681474\n",
      "oupdated state 0.6000000000000001 , action 0.30000000000000004 , the inital Q value 13.222959597246012\n",
      "reward(total COP) 13.121880803681474\n",
      "updated Q value 13.250995319413141\n",
      "------\n",
      "3923.769926 27.0 81.0\n",
      "need to use Q-learning\n",
      "needs optimization\n",
      "the number of permutation 168 can choose\n",
      "optimal control set：the number of cooling tower 13 , real-time frequency 30 Hz，the number of larger chillers 1 , the number of smaller chillers 1 \n",
      " the temperature of water entering towers 27.24252029862473 Celsius, the temperature of water leaving towers 25.4 Celsius, All electricity consumption 298.521902618156 KW\n",
      " total COP 13.143993427574241\n",
      "oupdated state 0.6000000000000001 , action 0.30000000000000004 , the inital Q value 13.250995319413141\n",
      "reward(total COP) 13.143993427574241\n",
      "updated Q value 13.27395257463285\n",
      "------\n",
      "3923.769926 29.0 75.0\n",
      "need to use Q-learning\n",
      "needs optimization\n",
      "the number of permutation 168 can choose\n"
     ]
    },
    {
     "name": "stdout",
     "output_type": "stream",
     "text": [
      "optimal control set：the number of cooling tower 13 , real-time frequency 30 Hz，the number of larger chillers 1 , the number of smaller chillers 1 \n",
      " the temperature of water entering towers 27.742174049299628 Celsius, the temperature of water leaving towers 25.9 Celsius, All electricity consumption 297.7543832808461 KW\n",
      " total COP 13.177874605120573\n",
      "oupdated state 0.6000000000000001 , action 0.30000000000000004 , the inital Q value 13.27395257463285\n",
      "reward(total COP) 13.177874605120573\n",
      "updated Q value 13.306947975243498\n",
      "------\n",
      "3923.769926 30.0 71.0\n",
      "need to use Q-learning\n",
      "needs optimization\n",
      "the number of permutation 168 can choose\n",
      "optimal control set：the number of cooling tower 13 , real-time frequency 30 Hz，the number of larger chillers 1 , the number of smaller chillers 1 \n",
      " the temperature of water entering towers 27.84209645697079 Celsius, the temperature of water leaving towers 26.0 Celsius, All electricity consumption 297.58238695191983 KW\n",
      " total COP 13.185491138069137\n",
      "oupdated state 0.6000000000000001 , action 0.30000000000000004 , the inital Q value 13.306947975243498\n",
      "reward(total COP) 13.185491138069137\n",
      "updated Q value 13.317399353563765\n",
      "------\n",
      "3923.769926 32.0 62.0\n",
      "need to use Q-learning\n",
      "needs optimization\n",
      "the number of permutation 168 can choose\n",
      "optimal control set：the number of cooling tower 13 , real-time frequency 30 Hz，the number of larger chillers 1 , the number of smaller chillers 1 \n",
      " the temperature of water entering towers 27.642248860807197 Celsius, the temperature of water leaving towers 25.8 Celsius, All electricity consumption 297.92021545595105 KW\n",
      " total COP 13.170539367376861\n",
      "oupdated state 0.6000000000000001 , action 0.30000000000000004 , the inital Q value 13.317399353563765\n",
      "reward(total COP) 13.170539367376861\n",
      "updated Q value 13.305081960177624\n",
      "------\n",
      "3923.769926 32.0 57.0\n",
      "need to use Q-learning\n",
      "needs optimization\n",
      "the number of permutation 168 can choose\n",
      "optimal control set：the number of cooling tower 13 , real-time frequency 30 Hz，the number of larger chillers 1 , the number of smaller chillers 1 \n",
      " the temperature of water entering towers 26.44292969483871 Celsius, the temperature of water leaving towers 24.6 Celsius, All electricity consumption 299.42939755913596 KW\n",
      " total COP 13.104157300470382\n",
      "oupdated state 0.6000000000000001 , action 0.30000000000000004 , the inital Q value 13.305081960177624\n",
      "reward(total COP) 13.104157300470382\n",
      "updated Q value 13.243995504082704\n",
      "------\n",
      "3923.769926 33.0 59.0\n",
      "need to use Q-learning\n",
      "needs optimization\n",
      "the number of permutation 168 can choose\n",
      "optimal control set：the number of cooling tower 13 , real-time frequency 30 Hz，the number of larger chillers 1 , the number of smaller chillers 1 \n",
      " the temperature of water entering towers 27.642248860807197 Celsius, the temperature of water leaving towers 25.8 Celsius, All electricity consumption 297.92021545595105 KW\n",
      " total COP 13.170539367376861\n",
      "oupdated state 0.6000000000000001 , action 0.30000000000000004 , the inital Q value 13.243995504082704\n",
      "reward(total COP) 13.170539367376861\n",
      "updated Q value 13.29708094058419\n",
      "------\n",
      "3923.769926 34.0 58.0\n",
      "need to use Q-learning\n",
      "needs optimization\n",
      "the number of permutation 168 can choose\n",
      "optimal control set：the number of cooling tower 13 , real-time frequency 30 Hz，the number of larger chillers 1 , the number of smaller chillers 1 \n",
      " the temperature of water entering towers 28.14184699505664 Celsius, the temperature of water leaving towers 26.3 Celsius, All electricity consumption 297.029413042212 KW\n",
      " total COP 13.210038311735739\n",
      "oupdated state 0.6000000000000001 , action 0.30000000000000004 , the inital Q value 13.29708094058419\n",
      "reward(total COP) 13.210038311735739\n",
      "updated Q value 13.338416303085841\n",
      "------\n",
      "3923.769926 34.0 59.0\n",
      "need to use Q-learning\n",
      "needs optimization\n",
      "the number of permutation 168 can choose\n",
      "optimal control set：the number of cooling tower 13 , real-time frequency 30 Hz，the number of larger chillers 1 , the number of smaller chillers 1 \n",
      " the temperature of water entering towers 28.341666783007504 Celsius, the temperature of water leaving towers 26.5 Celsius, All electricity consumption 296.62994299996626 KW\n",
      " total COP 13.227828203440831\n",
      "oupdated state 0.6000000000000001 , action 0.30000000000000004 , the inital Q value 13.338416303085841\n",
      "reward(total COP) 13.227828203440831\n",
      "updated Q value 13.358932760133104\n",
      "------\n",
      "3923.769926 33.0 62.0\n",
      "need to use Q-learning\n",
      "needs optimization\n",
      "the number of permutation 168 can choose\n",
      "optimal control set：the number of cooling tower 13 , real-time frequency 30 Hz，the number of larger chillers 1 , the number of smaller chillers 1 \n",
      " the temperature of water entering towers 28.341666783007504 Celsius, the temperature of water leaving towers 26.5 Celsius, All electricity consumption 296.62994299996626 KW\n",
      " total COP 13.227828203440831\n",
      "oupdated state 0.6000000000000001 , action 0.30000000000000004 , the inital Q value 13.358932760133104\n",
      "reward(total COP) 13.227828203440831\n",
      "updated Q value 13.361169053951256\n",
      "------\n",
      "3923.769926 32.0 65.0\n",
      "need to use Q-learning\n",
      "needs optimization\n",
      "the number of permutation 168 can choose\n",
      "optimal control set：the number of cooling tower 13 , real-time frequency 30 Hz，the number of larger chillers 1 , the number of smaller chillers 1 \n",
      " the temperature of water entering towers 28.241758279442706 Celsius, the temperature of water leaving towers 26.4 Celsius, All electricity consumption 296.8327600979999 KW\n",
      " total COP 13.218790017330162\n",
      "oupdated state 0.6000000000000001 , action 0.30000000000000004 , the inital Q value 13.361169053951256\n",
      "reward(total COP) 13.218790017330162\n",
      "updated Q value 13.353278442477833\n",
      "------\n",
      "3923.769926 32.0 69.0\n",
      "need to use Q-learning\n",
      "needs optimization\n",
      "the number of permutation 168 can choose\n",
      "optimal control set：the number of cooling tower 13 , real-time frequency 30 Hz，the number of larger chillers 1 , the number of smaller chillers 1 \n",
      " the temperature of water entering towers 29.04094844496544 Celsius, the temperature of water leaving towers 27.2 Celsius, All electricity consumption 295.0376270067302 KW\n",
      " total COP 13.299218699011885\n",
      "oupdated state 0.6000000000000001 , action 0.30000000000000004 , the inital Q value 13.353278442477833\n",
      "reward(total COP) 13.299218699011885\n",
      "updated Q value 13.42480417934078\n",
      "------\n",
      "3923.769926 30.0 73.0\n",
      "need to use Q-learning\n",
      "needs optimization\n",
      "the number of permutation 168 can choose\n",
      "optimal control set：the number of cooling tower 13 , real-time frequency 30 Hz，the number of larger chillers 1 , the number of smaller chillers 1 \n",
      " the temperature of water entering towers 28.341666783007504 Celsius, the temperature of water leaving towers 26.5 Celsius, All electricity consumption 296.62994299996626 KW\n",
      " total COP 13.227828203440831\n",
      "oupdated state 0.6000000000000001 , action 0.30000000000000004 , the inital Q value 13.42480417934078\n",
      "reward(total COP) 13.227828203440831\n",
      "updated Q value 13.368349038644892\n",
      "------\n",
      "3923.769926 29.0 77.0\n",
      "need to use Q-learning\n",
      "needs optimization\n",
      "the number of permutation 168 can choose\n",
      "optimal control set：the number of cooling tower 13 , real-time frequency 30 Hz，the number of larger chillers 1 , the number of smaller chillers 1 \n",
      " the temperature of water entering towers 28.241758279442706 Celsius, the temperature of water leaving towers 26.4 Celsius, All electricity consumption 296.8327600979999 KW\n",
      " total COP 13.218790017330162\n",
      "oupdated state 0.6000000000000001 , action 0.30000000000000004 , the inital Q value 13.368349038644892\n",
      "reward(total COP) 13.218790017330162\n",
      "updated Q value 13.354061060809439\n",
      "------\n",
      "3923.769926 28.0 80.0\n",
      "need to use Q-learning\n",
      "needs optimization\n",
      "the number of permutation 168 can choose\n",
      "optimal control set：the number of cooling tower 13 , real-time frequency 30 Hz，the number of larger chillers 1 , the number of smaller chillers 1 \n",
      " the temperature of water entering towers 27.94201608382068 Celsius, the temperature of water leaving towers 26.1 Celsius, All electricity consumption 297.40422646917204 KW\n",
      " total COP 13.193389927855398\n",
      "oupdated state 0.6000000000000001 , action 0.30000000000000004 , the inital Q value 13.354061060809439\n",
      "reward(total COP) 13.193389927855398\n",
      "updated Q value 13.329643590698087\n",
      "------\n",
      "3923.769926 27.0 84.0\n",
      "need to use Q-learning\n",
      "needs optimization\n",
      "the number of permutation 168 can choose\n"
     ]
    },
    {
     "name": "stdout",
     "output_type": "stream",
     "text": [
      "optimal control set：the number of cooling tower 13 , real-time frequency 30 Hz，the number of larger chillers 1 , the number of smaller chillers 1 \n",
      " the temperature of water entering towers 27.84209645697079 Celsius, the temperature of water leaving towers 26.0 Celsius, All electricity consumption 297.58238695191983 KW\n",
      " total COP 13.185491138069137\n",
      "oupdated state 0.6000000000000001 , action 0.30000000000000004 , the inital Q value 13.329643590698087\n",
      "reward(total COP) 13.185491138069137\n",
      "updated Q value 13.319873175648315\n",
      "------\n",
      "3923.769926 26.0 87.0\n",
      "need to use Q-learning\n",
      "needs optimization\n",
      "the number of permutation 168 can choose\n",
      "optimal control set：the number of cooling tower 13 , real-time frequency 30 Hz，the number of larger chillers 1 , the number of smaller chillers 1 \n",
      " the temperature of water entering towers 27.442390141358512 Celsius, the temperature of water leaving towers 25.6 Celsius, All electricity consumption 298.2333873446963 KW\n",
      " total COP 13.156709116088772\n",
      "oupdated state 0.6000000000000001 , action 0.30000000000000004 , the inital Q value 13.319873175648315\n",
      "reward(total COP) 13.156709116088772\n",
      "updated Q value 13.292904380625561\n",
      "------\n"
     ]
    }
   ],
   "source": [
    "# test\n",
    "Q_table = Q_table_ini()\n",
    "num_ct_lis,f_ct_lis,num_ch_small_lis,num_ch_big_lis,tcws_lis,tcwr_lis,power_cts_lis,power_chillers_small_lis,power_chillers_big_lis,power_chillers_all_lis,power_all_lis,plr_ch_small_lis,plr_ch_big_lis,COP_total_lis,Q_table = train_Q(cal_load[30:120],\n",
    "                                                                                                                                                                                                                                         tout[30:120],\n",
    "                                                                                                                                                                                                                                         hout[30:120],Q_table)"
   ]
  },
  {
   "cell_type": "code",
   "execution_count": null,
   "metadata": {},
   "outputs": [],
   "source": []
  },
  {
   "cell_type": "code",
   "execution_count": null,
   "metadata": {},
   "outputs": [],
   "source": []
  },
  {
   "cell_type": "code",
   "execution_count": null,
   "metadata": {},
   "outputs": [],
   "source": []
  },
  {
   "cell_type": "code",
   "execution_count": null,
   "metadata": {},
   "outputs": [],
   "source": []
  },
  {
   "cell_type": "code",
   "execution_count": null,
   "metadata": {},
   "outputs": [],
   "source": []
  },
  {
   "cell_type": "code",
   "execution_count": null,
   "metadata": {},
   "outputs": [],
   "source": []
  },
  {
   "cell_type": "code",
   "execution_count": null,
   "metadata": {},
   "outputs": [],
   "source": []
  }
 ],
 "metadata": {
  "kernelspec": {
   "display_name": "Python 3 (ipykernel)",
   "language": "python",
   "name": "python3"
  },
  "language_info": {
   "codemirror_mode": {
    "name": "ipython",
    "version": 3
   },
   "file_extension": ".py",
   "mimetype": "text/x-python",
   "name": "python",
   "nbconvert_exporter": "python",
   "pygments_lexer": "ipython3",
   "version": "3.7.5"
  },
  "toc": {
   "base_numbering": 1,
   "nav_menu": {},
   "number_sections": true,
   "sideBar": true,
   "skip_h1_title": false,
   "title_cell": "Table of Contents",
   "title_sidebar": "Contents",
   "toc_cell": false,
   "toc_position": {
    "height": "343.992px",
    "left": "53px",
    "top": "110.267px",
    "width": "383.003px"
   },
   "toc_section_display": true,
   "toc_window_display": true
  },
  "varInspector": {
   "cols": {
    "lenName": 16,
    "lenType": 16,
    "lenVar": 40
   },
   "kernels_config": {
    "python": {
     "delete_cmd_postfix": "",
     "delete_cmd_prefix": "del ",
     "library": "var_list.py",
     "varRefreshCmd": "print(var_dic_list())"
    },
    "r": {
     "delete_cmd_postfix": ") ",
     "delete_cmd_prefix": "rm(",
     "library": "var_list.r",
     "varRefreshCmd": "cat(var_dic_list()) "
    }
   },
   "position": {
    "height": "331.4px",
    "left": "984.133px",
    "right": "20px",
    "top": "120px",
    "width": "350px"
   },
   "types_to_exclude": [
    "module",
    "function",
    "builtin_function_or_method",
    "instance",
    "_Feature"
   ],
   "window_display": false
  }
 },
 "nbformat": 4,
 "nbformat_minor": 2
}
